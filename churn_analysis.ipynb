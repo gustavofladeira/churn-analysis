{
 "cells": [
  {
   "cell_type": "markdown",
   "metadata": {},
   "source": [
    "Source [here](https://www.kaggle.com/datasets/muhammadshahidazeem/customer-churn-dataset)"
   ]
  },
  {
   "cell_type": "markdown",
   "metadata": {},
   "source": [
    "## Exploratory Data Analysis"
   ]
  },
  {
   "cell_type": "code",
   "execution_count": 119,
   "metadata": {},
   "outputs": [],
   "source": [
    "import pandas as pd\n",
    "import numpy as np\n",
    "from summarytools import dfSummary\n",
    "import plotly.express as px\n",
    "import seaborn as sns\n",
    "import matplotlib.pyplot as plt\n",
    "\n",
    "from xgboost import XGBClassifier\n",
    "from lightgbm import LGBMClassifier\n",
    "from catboost import CatBoostClassifier\n",
    "from sklearn.linear_model import LogisticRegression\n",
    "\n",
    "from sklearn.model_selection import StratifiedKFold\n",
    "from sklearn.metrics import precision_score, recall_score, precision_recall_curve, auc, roc_auc_score, f1_score, confusion_matrix, accuracy_score\n",
    "\n",
    "from category_encoders import CatBoostEncoder\n",
    "from sklearn.impute import SimpleImputer\n",
    "from sklearn.pipeline import Pipeline\n",
    "\n",
    "from warnings import filterwarnings\n",
    "filterwarnings('ignore')"
   ]
  },
  {
   "cell_type": "code",
   "execution_count": 78,
   "metadata": {},
   "outputs": [],
   "source": [
    "train = pd.read_csv(\"data/customer_churn_dataset-training-master.csv\")"
   ]
  },
  {
   "cell_type": "code",
   "execution_count": 79,
   "metadata": {},
   "outputs": [
    {
     "name": "stdout",
     "output_type": "stream",
     "text": [
      "<class 'pandas.core.frame.DataFrame'>\n",
      "RangeIndex: 440833 entries, 0 to 440832\n",
      "Data columns (total 12 columns):\n",
      " #   Column             Non-Null Count   Dtype  \n",
      "---  ------             --------------   -----  \n",
      " 0   CustomerID         440832 non-null  float64\n",
      " 1   Age                440832 non-null  float64\n",
      " 2   Gender             440832 non-null  object \n",
      " 3   Tenure             440832 non-null  float64\n",
      " 4   Usage Frequency    440832 non-null  float64\n",
      " 5   Support Calls      440832 non-null  float64\n",
      " 6   Payment Delay      440832 non-null  float64\n",
      " 7   Subscription Type  440832 non-null  object \n",
      " 8   Contract Length    440832 non-null  object \n",
      " 9   Total Spend        440832 non-null  float64\n",
      " 10  Last Interaction   440832 non-null  float64\n",
      " 11  Churn              440832 non-null  float64\n",
      "dtypes: float64(9), object(3)\n",
      "memory usage: 40.4+ MB\n"
     ]
    }
   ],
   "source": [
    "train.info()"
   ]
  },
  {
   "cell_type": "code",
   "execution_count": 80,
   "metadata": {},
   "outputs": [
    {
     "data": {
      "text/html": [
       "<div>\n",
       "<style scoped>\n",
       "    .dataframe tbody tr th:only-of-type {\n",
       "        vertical-align: middle;\n",
       "    }\n",
       "\n",
       "    .dataframe tbody tr th {\n",
       "        vertical-align: top;\n",
       "    }\n",
       "\n",
       "    .dataframe thead th {\n",
       "        text-align: right;\n",
       "    }\n",
       "</style>\n",
       "<table border=\"1\" class=\"dataframe\">\n",
       "  <thead>\n",
       "    <tr style=\"text-align: right;\">\n",
       "      <th></th>\n",
       "      <th>CustomerID</th>\n",
       "      <th>Age</th>\n",
       "      <th>Gender</th>\n",
       "      <th>Tenure</th>\n",
       "      <th>Usage Frequency</th>\n",
       "      <th>Support Calls</th>\n",
       "      <th>Payment Delay</th>\n",
       "      <th>Subscription Type</th>\n",
       "      <th>Contract Length</th>\n",
       "      <th>Total Spend</th>\n",
       "      <th>Last Interaction</th>\n",
       "      <th>Churn</th>\n",
       "    </tr>\n",
       "  </thead>\n",
       "  <tbody>\n",
       "    <tr>\n",
       "      <th>0</th>\n",
       "      <td>2.0</td>\n",
       "      <td>30.0</td>\n",
       "      <td>Female</td>\n",
       "      <td>39.0</td>\n",
       "      <td>14.0</td>\n",
       "      <td>5.0</td>\n",
       "      <td>18.0</td>\n",
       "      <td>Standard</td>\n",
       "      <td>Annual</td>\n",
       "      <td>932.0</td>\n",
       "      <td>17.0</td>\n",
       "      <td>1.0</td>\n",
       "    </tr>\n",
       "    <tr>\n",
       "      <th>1</th>\n",
       "      <td>3.0</td>\n",
       "      <td>65.0</td>\n",
       "      <td>Female</td>\n",
       "      <td>49.0</td>\n",
       "      <td>1.0</td>\n",
       "      <td>10.0</td>\n",
       "      <td>8.0</td>\n",
       "      <td>Basic</td>\n",
       "      <td>Monthly</td>\n",
       "      <td>557.0</td>\n",
       "      <td>6.0</td>\n",
       "      <td>1.0</td>\n",
       "    </tr>\n",
       "    <tr>\n",
       "      <th>2</th>\n",
       "      <td>4.0</td>\n",
       "      <td>55.0</td>\n",
       "      <td>Female</td>\n",
       "      <td>14.0</td>\n",
       "      <td>4.0</td>\n",
       "      <td>6.0</td>\n",
       "      <td>18.0</td>\n",
       "      <td>Basic</td>\n",
       "      <td>Quarterly</td>\n",
       "      <td>185.0</td>\n",
       "      <td>3.0</td>\n",
       "      <td>1.0</td>\n",
       "    </tr>\n",
       "    <tr>\n",
       "      <th>3</th>\n",
       "      <td>5.0</td>\n",
       "      <td>58.0</td>\n",
       "      <td>Male</td>\n",
       "      <td>38.0</td>\n",
       "      <td>21.0</td>\n",
       "      <td>7.0</td>\n",
       "      <td>7.0</td>\n",
       "      <td>Standard</td>\n",
       "      <td>Monthly</td>\n",
       "      <td>396.0</td>\n",
       "      <td>29.0</td>\n",
       "      <td>1.0</td>\n",
       "    </tr>\n",
       "    <tr>\n",
       "      <th>4</th>\n",
       "      <td>6.0</td>\n",
       "      <td>23.0</td>\n",
       "      <td>Male</td>\n",
       "      <td>32.0</td>\n",
       "      <td>20.0</td>\n",
       "      <td>5.0</td>\n",
       "      <td>8.0</td>\n",
       "      <td>Basic</td>\n",
       "      <td>Monthly</td>\n",
       "      <td>617.0</td>\n",
       "      <td>20.0</td>\n",
       "      <td>1.0</td>\n",
       "    </tr>\n",
       "  </tbody>\n",
       "</table>\n",
       "</div>"
      ],
      "text/plain": [
       "   CustomerID   Age  Gender  Tenure  Usage Frequency  Support Calls  \\\n",
       "0         2.0  30.0  Female    39.0             14.0            5.0   \n",
       "1         3.0  65.0  Female    49.0              1.0           10.0   \n",
       "2         4.0  55.0  Female    14.0              4.0            6.0   \n",
       "3         5.0  58.0    Male    38.0             21.0            7.0   \n",
       "4         6.0  23.0    Male    32.0             20.0            5.0   \n",
       "\n",
       "   Payment Delay Subscription Type Contract Length  Total Spend  \\\n",
       "0           18.0          Standard          Annual        932.0   \n",
       "1            8.0             Basic         Monthly        557.0   \n",
       "2           18.0             Basic       Quarterly        185.0   \n",
       "3            7.0          Standard         Monthly        396.0   \n",
       "4            8.0             Basic         Monthly        617.0   \n",
       "\n",
       "   Last Interaction  Churn  \n",
       "0              17.0    1.0  \n",
       "1               6.0    1.0  \n",
       "2               3.0    1.0  \n",
       "3              29.0    1.0  \n",
       "4              20.0    1.0  "
      ]
     },
     "execution_count": 80,
     "metadata": {},
     "output_type": "execute_result"
    }
   ],
   "source": [
    "train.head()"
   ]
  },
  {
   "cell_type": "code",
   "execution_count": 81,
   "metadata": {},
   "outputs": [
    {
     "data": {
      "text/html": [
       "<div>\n",
       "<style scoped>\n",
       "    .dataframe tbody tr th:only-of-type {\n",
       "        vertical-align: middle;\n",
       "    }\n",
       "\n",
       "    .dataframe tbody tr th {\n",
       "        vertical-align: top;\n",
       "    }\n",
       "\n",
       "    .dataframe thead th {\n",
       "        text-align: right;\n",
       "    }\n",
       "</style>\n",
       "<table border=\"1\" class=\"dataframe\">\n",
       "  <thead>\n",
       "    <tr style=\"text-align: right;\">\n",
       "      <th></th>\n",
       "      <th>CustomerID</th>\n",
       "      <th>Age</th>\n",
       "      <th>Tenure</th>\n",
       "      <th>Usage Frequency</th>\n",
       "      <th>Support Calls</th>\n",
       "      <th>Payment Delay</th>\n",
       "      <th>Total Spend</th>\n",
       "      <th>Last Interaction</th>\n",
       "      <th>Churn</th>\n",
       "    </tr>\n",
       "  </thead>\n",
       "  <tbody>\n",
       "    <tr>\n",
       "      <th>count</th>\n",
       "      <td>440832.000000</td>\n",
       "      <td>440832.000000</td>\n",
       "      <td>440832.000000</td>\n",
       "      <td>440832.000000</td>\n",
       "      <td>440832.000000</td>\n",
       "      <td>440832.000000</td>\n",
       "      <td>440832.000000</td>\n",
       "      <td>440832.000000</td>\n",
       "      <td>440832.000000</td>\n",
       "    </tr>\n",
       "    <tr>\n",
       "      <th>mean</th>\n",
       "      <td>225398.667955</td>\n",
       "      <td>39.373153</td>\n",
       "      <td>31.256336</td>\n",
       "      <td>15.807494</td>\n",
       "      <td>3.604437</td>\n",
       "      <td>12.965722</td>\n",
       "      <td>631.616223</td>\n",
       "      <td>14.480868</td>\n",
       "      <td>0.567107</td>\n",
       "    </tr>\n",
       "    <tr>\n",
       "      <th>std</th>\n",
       "      <td>129531.918550</td>\n",
       "      <td>12.442369</td>\n",
       "      <td>17.255727</td>\n",
       "      <td>8.586242</td>\n",
       "      <td>3.070218</td>\n",
       "      <td>8.258063</td>\n",
       "      <td>240.803001</td>\n",
       "      <td>8.596208</td>\n",
       "      <td>0.495477</td>\n",
       "    </tr>\n",
       "    <tr>\n",
       "      <th>min</th>\n",
       "      <td>2.000000</td>\n",
       "      <td>18.000000</td>\n",
       "      <td>1.000000</td>\n",
       "      <td>1.000000</td>\n",
       "      <td>0.000000</td>\n",
       "      <td>0.000000</td>\n",
       "      <td>100.000000</td>\n",
       "      <td>1.000000</td>\n",
       "      <td>0.000000</td>\n",
       "    </tr>\n",
       "    <tr>\n",
       "      <th>25%</th>\n",
       "      <td>113621.750000</td>\n",
       "      <td>29.000000</td>\n",
       "      <td>16.000000</td>\n",
       "      <td>9.000000</td>\n",
       "      <td>1.000000</td>\n",
       "      <td>6.000000</td>\n",
       "      <td>480.000000</td>\n",
       "      <td>7.000000</td>\n",
       "      <td>0.000000</td>\n",
       "    </tr>\n",
       "    <tr>\n",
       "      <th>50%</th>\n",
       "      <td>226125.500000</td>\n",
       "      <td>39.000000</td>\n",
       "      <td>32.000000</td>\n",
       "      <td>16.000000</td>\n",
       "      <td>3.000000</td>\n",
       "      <td>12.000000</td>\n",
       "      <td>661.000000</td>\n",
       "      <td>14.000000</td>\n",
       "      <td>1.000000</td>\n",
       "    </tr>\n",
       "    <tr>\n",
       "      <th>75%</th>\n",
       "      <td>337739.250000</td>\n",
       "      <td>48.000000</td>\n",
       "      <td>46.000000</td>\n",
       "      <td>23.000000</td>\n",
       "      <td>6.000000</td>\n",
       "      <td>19.000000</td>\n",
       "      <td>830.000000</td>\n",
       "      <td>22.000000</td>\n",
       "      <td>1.000000</td>\n",
       "    </tr>\n",
       "    <tr>\n",
       "      <th>max</th>\n",
       "      <td>449999.000000</td>\n",
       "      <td>65.000000</td>\n",
       "      <td>60.000000</td>\n",
       "      <td>30.000000</td>\n",
       "      <td>10.000000</td>\n",
       "      <td>30.000000</td>\n",
       "      <td>1000.000000</td>\n",
       "      <td>30.000000</td>\n",
       "      <td>1.000000</td>\n",
       "    </tr>\n",
       "  </tbody>\n",
       "</table>\n",
       "</div>"
      ],
      "text/plain": [
       "          CustomerID            Age         Tenure  Usage Frequency  \\\n",
       "count  440832.000000  440832.000000  440832.000000    440832.000000   \n",
       "mean   225398.667955      39.373153      31.256336        15.807494   \n",
       "std    129531.918550      12.442369      17.255727         8.586242   \n",
       "min         2.000000      18.000000       1.000000         1.000000   \n",
       "25%    113621.750000      29.000000      16.000000         9.000000   \n",
       "50%    226125.500000      39.000000      32.000000        16.000000   \n",
       "75%    337739.250000      48.000000      46.000000        23.000000   \n",
       "max    449999.000000      65.000000      60.000000        30.000000   \n",
       "\n",
       "       Support Calls  Payment Delay    Total Spend  Last Interaction  \\\n",
       "count  440832.000000  440832.000000  440832.000000     440832.000000   \n",
       "mean        3.604437      12.965722     631.616223         14.480868   \n",
       "std         3.070218       8.258063     240.803001          8.596208   \n",
       "min         0.000000       0.000000     100.000000          1.000000   \n",
       "25%         1.000000       6.000000     480.000000          7.000000   \n",
       "50%         3.000000      12.000000     661.000000         14.000000   \n",
       "75%         6.000000      19.000000     830.000000         22.000000   \n",
       "max        10.000000      30.000000    1000.000000         30.000000   \n",
       "\n",
       "               Churn  \n",
       "count  440832.000000  \n",
       "mean        0.567107  \n",
       "std         0.495477  \n",
       "min         0.000000  \n",
       "25%         0.000000  \n",
       "50%         1.000000  \n",
       "75%         1.000000  \n",
       "max         1.000000  "
      ]
     },
     "execution_count": 81,
     "metadata": {},
     "output_type": "execute_result"
    }
   ],
   "source": [
    "train.describe()"
   ]
  },
  {
   "cell_type": "code",
   "execution_count": 82,
   "metadata": {},
   "outputs": [
    {
     "data": {
      "text/plain": [
       "CustomerID           1\n",
       "Age                  1\n",
       "Gender               1\n",
       "Tenure               1\n",
       "Usage Frequency      1\n",
       "Support Calls        1\n",
       "Payment Delay        1\n",
       "Subscription Type    1\n",
       "Contract Length      1\n",
       "Total Spend          1\n",
       "Last Interaction     1\n",
       "Churn                1\n",
       "dtype: int64"
      ]
     },
     "execution_count": 82,
     "metadata": {},
     "output_type": "execute_result"
    }
   ],
   "source": [
    "train.isnull().sum()"
   ]
  },
  {
   "cell_type": "code",
   "execution_count": 83,
   "metadata": {},
   "outputs": [],
   "source": [
    "train = train.dropna()"
   ]
  },
  {
   "cell_type": "code",
   "execution_count": 84,
   "metadata": {},
   "outputs": [
    {
     "data": {
      "text/html": [
       "<div>\n",
       "<style scoped>\n",
       "    .dataframe tbody tr th:only-of-type {\n",
       "        vertical-align: middle;\n",
       "    }\n",
       "\n",
       "    .dataframe tbody tr th {\n",
       "        vertical-align: top;\n",
       "    }\n",
       "\n",
       "    .dataframe thead th {\n",
       "        text-align: right;\n",
       "    }\n",
       "</style>\n",
       "<table border=\"1\" class=\"dataframe\">\n",
       "  <thead>\n",
       "    <tr style=\"text-align: right;\">\n",
       "      <th></th>\n",
       "      <th>CustomerID</th>\n",
       "      <th>Age</th>\n",
       "      <th>Gender</th>\n",
       "      <th>Tenure</th>\n",
       "      <th>Usage Frequency</th>\n",
       "      <th>Support Calls</th>\n",
       "      <th>Payment Delay</th>\n",
       "      <th>Subscription Type</th>\n",
       "      <th>Contract Length</th>\n",
       "      <th>Total Spend</th>\n",
       "      <th>Last Interaction</th>\n",
       "      <th>Churn</th>\n",
       "    </tr>\n",
       "  </thead>\n",
       "  <tbody>\n",
       "  </tbody>\n",
       "</table>\n",
       "</div>"
      ],
      "text/plain": [
       "Empty DataFrame\n",
       "Columns: [CustomerID, Age, Gender, Tenure, Usage Frequency, Support Calls, Payment Delay, Subscription Type, Contract Length, Total Spend, Last Interaction, Churn]\n",
       "Index: []"
      ]
     },
     "execution_count": 84,
     "metadata": {},
     "output_type": "execute_result"
    }
   ],
   "source": [
    "train[train.duplicated()]"
   ]
  },
  {
   "cell_type": "code",
   "execution_count": 85,
   "metadata": {},
   "outputs": [
    {
     "data": {
      "text/plain": [
       "CustomerID           440832\n",
       "Age                      48\n",
       "Gender                    2\n",
       "Tenure                   60\n",
       "Usage Frequency          30\n",
       "Support Calls            11\n",
       "Payment Delay            31\n",
       "Subscription Type         3\n",
       "Contract Length           3\n",
       "Total Spend           68363\n",
       "Last Interaction         30\n",
       "Churn                     2\n",
       "dtype: int64"
      ]
     },
     "execution_count": 85,
     "metadata": {},
     "output_type": "execute_result"
    }
   ],
   "source": [
    "train.nunique()"
   ]
  },
  {
   "cell_type": "code",
   "execution_count": 86,
   "metadata": {},
   "outputs": [
    {
     "data": {
      "text/html": [
       "<style type=\"text/css\">\n",
       "#T_c4886 thead>tr>th {\n",
       "  text-align: left;\n",
       "}\n",
       "#T_c4886_row0_col0, #T_c4886_row1_col0, #T_c4886_row2_col0, #T_c4886_row3_col0, #T_c4886_row4_col0, #T_c4886_row5_col0, #T_c4886_row6_col0, #T_c4886_row7_col0, #T_c4886_row8_col0, #T_c4886_row9_col0, #T_c4886_row10_col0, #T_c4886_row11_col0 {\n",
       "  text-align: left;\n",
       "  font-size: 12px;\n",
       "  vertical-align: middle;\n",
       "  width: 5%;\n",
       "  max-width: 50px;\n",
       "  min-width: 20px;\n",
       "}\n",
       "#T_c4886_row0_col1, #T_c4886_row1_col1, #T_c4886_row2_col1, #T_c4886_row3_col1, #T_c4886_row4_col1, #T_c4886_row5_col1, #T_c4886_row6_col1, #T_c4886_row7_col1, #T_c4886_row8_col1, #T_c4886_row9_col1, #T_c4886_row10_col1, #T_c4886_row11_col1 {\n",
       "  text-align: left;\n",
       "  font-size: 12px;\n",
       "  vertical-align: middle;\n",
       "  width: 15%;\n",
       "  max-width: 200px;\n",
       "  min-width: 100px;\n",
       "  word-break: break-word;\n",
       "}\n",
       "#T_c4886_row0_col2, #T_c4886_row1_col2, #T_c4886_row2_col2, #T_c4886_row3_col2, #T_c4886_row4_col2, #T_c4886_row5_col2, #T_c4886_row6_col2, #T_c4886_row7_col2, #T_c4886_row8_col2, #T_c4886_row9_col2, #T_c4886_row10_col2, #T_c4886_row11_col2 {\n",
       "  text-align: left;\n",
       "  font-size: 12px;\n",
       "  vertical-align: middle;\n",
       "  width: 30%;\n",
       "  min-width: 100px;\n",
       "}\n",
       "#T_c4886_row0_col3, #T_c4886_row1_col3, #T_c4886_row2_col3, #T_c4886_row3_col3, #T_c4886_row4_col3, #T_c4886_row5_col3, #T_c4886_row6_col3, #T_c4886_row7_col3, #T_c4886_row8_col3, #T_c4886_row9_col3, #T_c4886_row10_col3, #T_c4886_row11_col3 {\n",
       "  text-align: left;\n",
       "  font-size: 12px;\n",
       "  vertical-align: middle;\n",
       "  width: 25%;\n",
       "  min-width: 100px;\n",
       "}\n",
       "#T_c4886_row0_col4, #T_c4886_row1_col4, #T_c4886_row2_col4, #T_c4886_row3_col4, #T_c4886_row4_col4, #T_c4886_row5_col4, #T_c4886_row6_col4, #T_c4886_row7_col4, #T_c4886_row8_col4, #T_c4886_row9_col4, #T_c4886_row10_col4, #T_c4886_row11_col4 {\n",
       "  text-align: left;\n",
       "  font-size: 12px;\n",
       "  vertical-align: middle;\n",
       "  width: 20%;\n",
       "  min-width: 150px;\n",
       "}\n",
       "#T_c4886_row0_col5, #T_c4886_row1_col5, #T_c4886_row2_col5, #T_c4886_row3_col5, #T_c4886_row4_col5, #T_c4886_row5_col5, #T_c4886_row6_col5, #T_c4886_row7_col5, #T_c4886_row8_col5, #T_c4886_row9_col5, #T_c4886_row10_col5, #T_c4886_row11_col5 {\n",
       "  text-align: left;\n",
       "  font-size: 12px;\n",
       "  vertical-align: middle;\n",
       "  width: 10%;\n",
       "}\n",
       "</style>\n",
       "<table id=\"T_c4886\">\n",
       "  <caption><strong>Data Frame Summary</strong><br>train<br>Dimensions: 440,832 x 12<br>Duplicates: 0</caption>\n",
       "  <thead>\n",
       "    <tr>\n",
       "      <th id=\"T_c4886_level0_col0\" class=\"col_heading level0 col0\" >No</th>\n",
       "      <th id=\"T_c4886_level0_col1\" class=\"col_heading level0 col1\" >Variable</th>\n",
       "      <th id=\"T_c4886_level0_col2\" class=\"col_heading level0 col2\" >Stats / Values</th>\n",
       "      <th id=\"T_c4886_level0_col3\" class=\"col_heading level0 col3\" >Freqs / (% of Valid)</th>\n",
       "      <th id=\"T_c4886_level0_col4\" class=\"col_heading level0 col4\" >Graph</th>\n",
       "      <th id=\"T_c4886_level0_col5\" class=\"col_heading level0 col5\" >Missing</th>\n",
       "    </tr>\n",
       "  </thead>\n",
       "  <tbody>\n",
       "    <tr>\n",
       "      <td id=\"T_c4886_row0_col0\" class=\"data row0 col0\" >1</td>\n",
       "      <td id=\"T_c4886_row0_col1\" class=\"data row0 col1\" ><strong>CustomerID</strong><br>[float64]</td>\n",
       "      <td id=\"T_c4886_row0_col2\" class=\"data row0 col2\" >Mean (sd) : 225398.7 (129531.9)<br>min < med < max:<br>2.0 < 226125.5 < 449999.0<br>IQR (CV) : 224117.5 (1.7)</td>\n",
       "      <td id=\"T_c4886_row0_col3\" class=\"data row0 col3\" >440,832 distinct values</td>\n",
       "      <td id=\"T_c4886_row0_col4\" class=\"data row0 col4\" ><img src = \"data:image/png;base64, iVBORw0KGgoAAAANSUhEUgAAAKoAAABGCAYAAABc8A97AAAAOXRFWHRTb2Z0d2FyZQBNYXRwbG90bGliIHZlcnNpb24zLjguNCwgaHR0cHM6Ly9tYXRwbG90bGliLm9yZy8fJSN1AAAACXBIWXMAAA9hAAAPYQGoP6dpAAACfElEQVR4nO3YP6/SYBiG8ecFDpQ/lhCOsHVxNHFgZPEb+GFd3SSBL8Dg4sRCSAiUUA+hVFxkcBBoK+254/WbzwNP+l5py3Hn89mA165S9gLAPWplL4A/OeeaZlbP8REVM/tZwqyZ2fF8Pr/kmP+rm6HmvHAPW/yWf3Dghe/unGv2+/1Pvu/3sswnSfIURdG7TqfzvVKpxEXNXux2u41z7vMjrtvVUPNeuEcufk3evc3Mttvt3jn3xcwOGcaz3pn8TqczGI/Hu263m/p7F4tFbz6fvx2NRt+Gw+GmqFkzszAMvel02luv13UzKzZUM6v7vt8bj8cvaS9cGIbeZDIZrNfrZ+fcLuN+pRz4crl8M5vNPgZB8FytVlPN57kzxXHsJUnyvtFofB0MBj/SbW222WyaZmbtdvuQdj7P7EWSJL6Z+c65LONXn2B3vaN2u93Uy0dR9BTH8YcgCKppD9us/AP3PK81Go0ORd6Zfs+2TqdTNd3G5ct73reevg/7MXU8HmtZD9vsdRx40Xemy6yiPOd9z2vDw3/1Z32U/K8Hri7Hq8PVM+P/qJBAqJBAqJBAqJBAqJBAqJBAqJBAqJBAqJBAqJBAqJBAqJBAqJBAqJBAqJBAqJBAqJBAqJBAqJBAqJBAqJBAqJBAqJBAqJBAqJBAqJBAqJBAqJBAqJBAqJBAqJBAqJBAqJBAqJBAqJBAqJBAqJBAqJBAqJBAqJBAqJBAqJBAqJBAqJBAqJBAqJBAqJBAqJBAqJBAqJBAqJBAqJBAqJBAqJBAqJBAqJBAqJBAqJBAqJBAqJBQu+ePwjD00n7wfr/3zMyiKPJWq1WryHnV71bdO+/8PX39Ai9SYfXEvrAfAAAAAElFTkSuQmCC\"></img></td>\n",
       "      <td id=\"T_c4886_row0_col5\" class=\"data row0 col5\" >0<br>(0.0%)</td>\n",
       "    </tr>\n",
       "    <tr>\n",
       "      <td id=\"T_c4886_row1_col0\" class=\"data row1 col0\" >2</td>\n",
       "      <td id=\"T_c4886_row1_col1\" class=\"data row1 col1\" ><strong>Age</strong><br>[float64]</td>\n",
       "      <td id=\"T_c4886_row1_col2\" class=\"data row1 col2\" >Mean (sd) : 39.4 (12.4)<br>min < med < max:<br>18.0 < 39.0 < 65.0<br>IQR (CV) : 19.0 (3.2)</td>\n",
       "      <td id=\"T_c4886_row1_col3\" class=\"data row1 col3\" >48 distinct values</td>\n",
       "      <td id=\"T_c4886_row1_col4\" class=\"data row1 col4\" ><img src = \"data:image/png;base64, iVBORw0KGgoAAAANSUhEUgAAAKoAAABGCAYAAABc8A97AAAAOXRFWHRTb2Z0d2FyZQBNYXRwbG90bGliIHZlcnNpb24zLjguNCwgaHR0cHM6Ly9tYXRwbG90bGliLm9yZy8fJSN1AAAACXBIWXMAAA9hAAAPYQGoP6dpAAACtklEQVR4nO3csW7aQBzH8f9BiBxAthAq2Vg6VurAyEP0YfsIHfIEGbpkYosUIRBuEMbQpUhEpWDuoPhnfz/7BUf6GnM+n912uzWg7Bq3PgCgiLtbH0AVOecezOzec/hqu92+X/J4qoBQL8w599Dv97/FcdzzGT+fz6fOue/E+hGhXt59HMe98Xj8niTJ8pyBs9ksenp66r29vd2bGaHuIdQrSZJkORgMfnkMfbj4wVQAkylI4Bv1HwImRPFms2ld+njqjlAPCJkQZVkW5Xn+Zblc/jAzn0s/DiDUw7wnRJPJpPf8/Nxer9fNax1cHRHqET4Toul0ymToCphMQQKhQkKpL/0sRWKntKHWdSkyz/OWmcXOOd8/UckTtLShWg2XItM0bWVZ9nU4HDabzeZZ//OO6gl6SplDNbN6LUWuVqu7KIrao9Fo+fj4OD13vOoJWsRVQw38jVnbFZ5Op+N7cpoJnqBFXC3U0N+YrPBg3zW/Ub1/Y5qxwoOPToYa+nBGkiRTn8sYKzzYdzRUHs5AWZz6RpV9OCPwfmRtJ3JlVeg3qtrDGaH3I7kalE/p76P6CL0feeurAf5WyVB3fO9HMpErH56eggRChQRChQRChQRChQRChQRChQRChQRChQRChQRChQRChQRChQRChYRKP+ZXR4E7Gxpmtgn4+JDxR9/wQqgVErKzIc/zVpqmn7vd7kuj0cjO/ezQ8afe8EKoFRKys+HProZPo9HoZ8CuCK/xRd7wQqgV5LOzYberIXRXRMBbXo7uqmAyBQmECgmECgmECgmECgmECgmECgmECgmECgmECgmECgmECgmECgmECgmECgmECgmECgmECgmECgmECgmECgmECgmECgmECgmECgmF3pQym82ic//wYrGIzMzSNI1eX1/b/3O86merHnfo+CJ9/QanWJbjhD2qpQAAAABJRU5ErkJggg==\"></img></td>\n",
       "      <td id=\"T_c4886_row1_col5\" class=\"data row1 col5\" >0<br>(0.0%)</td>\n",
       "    </tr>\n",
       "    <tr>\n",
       "      <td id=\"T_c4886_row2_col0\" class=\"data row2 col0\" >3</td>\n",
       "      <td id=\"T_c4886_row2_col1\" class=\"data row2 col1\" ><strong>Gender</strong><br>[object]</td>\n",
       "      <td id=\"T_c4886_row2_col2\" class=\"data row2 col2\" >1. Male<br>2. Female</td>\n",
       "      <td id=\"T_c4886_row2_col3\" class=\"data row2 col3\" >250,252 (56.8%)<br>190,580 (43.2%)</td>\n",
       "      <td id=\"T_c4886_row2_col4\" class=\"data row2 col4\" ><img src = \"data:image/png;base64, iVBORw0KGgoAAAANSUhEUgAAAJsAAAAuCAYAAAA/ZmtKAAAAOXRFWHRTb2Z0d2FyZQBNYXRwbG90bGliIHZlcnNpb24zLjguNCwgaHR0cHM6Ly9tYXRwbG90bGliLm9yZy8fJSN1AAAACXBIWXMAAA9hAAAPYQGoP6dpAAABNklEQVR4nO3bQWqDQByF8TdFQrMZEcHDeIgetoeY24g4iyZkM13URTzAvBH7/U7wRz6EBF8opQhwCJLukm6tD7mwVynl0fqIM+jGcfyKMQ6tD7mqnPMaQvgmOKmLMQ7zPD/6vn+2PuZqtm37TCkNy7LcJBGbJPV9/5ym6af1MRd1b33AWXy0PgD/B7HBhthgQ2ywITbYEBtsiA02xAYbYoMNscGG2GBDbLAhNtgQG2yIDTad9PeRX+tDrojnetTlnNeU0iA+8qsi57xKerW+4wwYvNTH4GUXmPLBhTfbEW+hipjyvWF2VxdTvh2zu/qY8h3xi7wi/tSFDbHBhthgQ2ywITbYEBtsiA02xAYbYoMNscGG2GBDbLAhNtgQG2yIDTZM+XY8g/qY8r1hdlcXg5cjBi8V/QIKW2rfxJVRAgAAAABJRU5ErkJggg==\"></img></td>\n",
       "      <td id=\"T_c4886_row2_col5\" class=\"data row2 col5\" >0<br>(0.0%)</td>\n",
       "    </tr>\n",
       "    <tr>\n",
       "      <td id=\"T_c4886_row3_col0\" class=\"data row3 col0\" >4</td>\n",
       "      <td id=\"T_c4886_row3_col1\" class=\"data row3 col1\" ><strong>Tenure</strong><br>[float64]</td>\n",
       "      <td id=\"T_c4886_row3_col2\" class=\"data row3 col2\" >Mean (sd) : 31.3 (17.3)<br>min < med < max:<br>1.0 < 32.0 < 60.0<br>IQR (CV) : 30.0 (1.8)</td>\n",
       "      <td id=\"T_c4886_row3_col3\" class=\"data row3 col3\" >60 distinct values</td>\n",
       "      <td id=\"T_c4886_row3_col4\" class=\"data row3 col4\" ><img src = \"data:image/png;base64, iVBORw0KGgoAAAANSUhEUgAAAKoAAABGCAYAAABc8A97AAAAOXRFWHRTb2Z0d2FyZQBNYXRwbG90bGliIHZlcnNpb24zLjguNCwgaHR0cHM6Ly9tYXRwbG90bGliLm9yZy8fJSN1AAAACXBIWXMAAA9hAAAPYQGoP6dpAAACmElEQVR4nO3Yv2/aQBiH8fcgRMeP2iJQsrF0jNQBKUuWbh37x3bt1gGkzgxdOmVBkSICwg3CGLq0VZYk2GdMvtLzWZM3d+QeIzi33+8NeOtqp94AcIizU28A5XLONc3svOD4Zr/fP77FtQn1GYH/9JqZ7U4w6y8uLj7HcdwuMvzw8LByzn0zs3XVay+Xy7lz7utzsR411MDDNgt8wotyzjV7vd6XKIq6eWezLGskSfKh0+n8qtVqaVWzZmZpmnozu7q+vv7R7/eXeWZns9m7yWTyaTgc9uv1eu5QQ9ZeLBZ+PB537+/vz82s2lBDDvuf156yIzqPoqh7c3PzGMdxrkO7vb3tTqfT96PR6Ofl5eW8qtkn8y3vfToYDH7nmZ3P503vfWs0Gq2rXvuv5ks/POY7auHDNjvsKTu2OI7XRQ7czKzdblc6+3Q+xCnXfsnRP6MWOewnjvrioYPrKUggVEggVEh49TNqwBVTtNvtGgXm/suyrGFmkXOuyHjIfWTw3lGuF0MNuWJK09RnWXa1Xq+/m1nuL1NJkjTSNP04HA7ree/1yriPDNk7yvfaO2rofWJru93Wi2xss9mcFb3XK+s+sujeUb6DrqdC7hNDqd5Holx8mYIEQoUEQoUEQoUEQoUEQoUEQoUEQoUEQoUEQoUEQoUEQoUEQoUEQoUEQoUEQoUEQoUEQoUEQoUEQoUEQoUEQoUEQoUEQoUEQoUEQoUEQoUEQoUEQoUEQoUEQoUEQoUEQoUEQoUEQoUEQoUEQoUEQoUEQoUEQoUEQoUEQoUEQoUEQoUEQoUEQoUEQoUEQoUEQoUEQoUEQoUEQoUEQoUEQoWEs0N+abFY+Lx/eLVaeTOzJEn83d1dq8p51bVV9x06f0hffwDxr1e/RdlWbwAAAABJRU5ErkJggg==\"></img></td>\n",
       "      <td id=\"T_c4886_row3_col5\" class=\"data row3 col5\" >0<br>(0.0%)</td>\n",
       "    </tr>\n",
       "    <tr>\n",
       "      <td id=\"T_c4886_row4_col0\" class=\"data row4 col0\" >5</td>\n",
       "      <td id=\"T_c4886_row4_col1\" class=\"data row4 col1\" ><strong>Usage Frequency</strong><br>[float64]</td>\n",
       "      <td id=\"T_c4886_row4_col2\" class=\"data row4 col2\" >Mean (sd) : 15.8 (8.6)<br>min < med < max:<br>1.0 < 16.0 < 30.0<br>IQR (CV) : 14.0 (1.8)</td>\n",
       "      <td id=\"T_c4886_row4_col3\" class=\"data row4 col3\" >30 distinct values</td>\n",
       "      <td id=\"T_c4886_row4_col4\" class=\"data row4 col4\" ><img src = \"data:image/png;base64, iVBORw0KGgoAAAANSUhEUgAAAKoAAABGCAYAAABc8A97AAAAOXRFWHRTb2Z0d2FyZQBNYXRwbG90bGliIHZlcnNpb24zLjguNCwgaHR0cHM6Ly9tYXRwbG90bGliLm9yZy8fJSN1AAAACXBIWXMAAA9hAAAPYQGoP6dpAAACY0lEQVR4nO3Yu2/aYBSG8fNBgj4utcWlsLF0zGaJhaVbx/6xXbt1AKkzQ5dOLAgJGRA0qObSqWMJtknMS5/fzLFPxAPkszudTgbculLRCwCXeCh6gdfinKuaWSXHJX6fTqfna+1zKdW9X9tdhuqcq7bb7c9BEDSzXmO5XG6cc1/NbJdhvGRmxwxzvtVqfQrDsJ5h1swK2/sa82c/YHcZqplVgiBoDofD5zAMU79hs9ns3Xg8/tjv9zvlcjnV/OFweNxutx8ajcbPUqmUpJlNksSb2dNgMPje6XTWqZa24va+xvx6vY6dc1/+Feu9hmpmZmEY7rrd7q+0c3EcV733tSiKdr1eL04zO51Om5PJ5H0URT8yzta894nS3nnnV6uVH41GzcViUTGz/y/UvOr1eurQ4ziu5p3N6633vsa8mZ392zn1QwKhQsKLP/05H5cUdYoMjsfjY4774sacDTXPY54iT5FJkvjD4fC02+2+mVmW/5dwY176Rs38mKfIU+Tf0/N+vy+nvS9u00Wn/iyPeYo8RV7r9IzbwWEKEggVEggVEggVEggVEggVEggVEggVEggVEggVEggVEggVEggVEggVEggVEggVEggVEggVEggVEggVEggVEggVEggVEggVEggVEggVEggVEggVEggVEggVEggVEggVEggVEggVEggVEggVEggVEggVEggVEggVEggVEggVEggVEggVEggVEggVEggVEggVEggVEggVEggVEggVEggVEggVEggVEggVEh4uedFqtfJpL7zZbLyZ2Xa79fP5vPaW86r3Vt077/wlff0BfjdEHbMztxkAAAAASUVORK5CYII=\"></img></td>\n",
       "      <td id=\"T_c4886_row4_col5\" class=\"data row4 col5\" >0<br>(0.0%)</td>\n",
       "    </tr>\n",
       "    <tr>\n",
       "      <td id=\"T_c4886_row5_col0\" class=\"data row5 col0\" >6</td>\n",
       "      <td id=\"T_c4886_row5_col1\" class=\"data row5 col1\" ><strong>Support Calls</strong><br>[float64]</td>\n",
       "      <td id=\"T_c4886_row5_col2\" class=\"data row5 col2\" >Mean (sd) : 3.6 (3.1)<br>min < med < max:<br>0.0 < 3.0 < 10.0<br>IQR (CV) : 5.0 (1.2)</td>\n",
       "      <td id=\"T_c4886_row5_col3\" class=\"data row5 col3\" >11 distinct values</td>\n",
       "      <td id=\"T_c4886_row5_col4\" class=\"data row5 col4\" ><img src = \"data:image/png;base64, iVBORw0KGgoAAAANSUhEUgAAAKoAAABGCAYAAABc8A97AAAAOXRFWHRTb2Z0d2FyZQBNYXRwbG90bGliIHZlcnNpb24zLjguNCwgaHR0cHM6Ly9tYXRwbG90bGliLm9yZy8fJSN1AAAACXBIWXMAAA9hAAAPYQGoP6dpAAACyUlEQVR4nO3dsW7aUBSA4XNLiC6g2iJBsPkFInVAysLSrWMftmu3REqkznmDLFEkyxjhBuGAu4ROCdj3muBj/d8cGw+/bnTh2DZFUQjQdF9OfQFAGWeH/sAY0xORc8fzr4uieHE8Fvhvb6jGmN7l5eXPIAiGLiefz+dLY8xvEVk5XR2h482hFfU8CILhbDZ7CcOwUmxPT09f7+/vv0dRNOp0Ok6hLhaLxBjzi1hx8F+/iEgYhqvxePy3yomTJOlZa/vT6XQ1mUySqheWpqm9vb0dx3E8MsYsqh4vrMatUipUH4PBoHLkIiJZlnXzPP8WRVHHZUVmNW6Xo4fqar1en7muyGma2ru7u2Ecx+ciQqgt0NhQd1xXZBHp1X4xOBm+R4UKhAoVCBUqECpUIFSoQKhQgVChAqFCBUKFCoQKFRr/E6qrzWbTFZHAGON6CqavGqSVofpOXokwfdU0rQzVZ/JKhOmrJmplqDsek1ciTF81CpspqNDqFRWf65h3LBMqauF7x/KhzSuhoi7OdyyX2bwSKmrlcsfym72bVzZTUIFQoQKhQgVChQpspj7gOdTCQEvNCPUdPE6oeQj1HTxOqHkIdQ8eJ9QcbKagAqFCBUKFCoQKFQgVKhAqVCBUqECoUIFQoQK/TB0BAy31I9SanXqgpa3vriXUmvkOtHi+rdBeXFz8CMNw4HCs77trg+1223X53DII9UhcBlp8V+M8z62IXF1fX/8ZjUaVQvd9d22e53az2VytVqsbEXF9Os2HCLVBfJ+Z9fj4OHx4eOhba/PPfnft7rNfX187VY8tg1AbyHW8MEkS7/HCU372Pnw9BRUIFSoQKlQgVKhAqFCBUKECoUIFQoUKhAoVCBUqECpUIFSoQKhQgVChAqFCBUKFCoQKFQgVKpS6FSVNU1v1xMvl0oqIZFlmn5+f+595vNbP1nrdvseX6esfFLmcqTxkzDwAAAAASUVORK5CYII=\"></img></td>\n",
       "      <td id=\"T_c4886_row5_col5\" class=\"data row5 col5\" >0<br>(0.0%)</td>\n",
       "    </tr>\n",
       "    <tr>\n",
       "      <td id=\"T_c4886_row6_col0\" class=\"data row6 col0\" >7</td>\n",
       "      <td id=\"T_c4886_row6_col1\" class=\"data row6 col1\" ><strong>Payment Delay</strong><br>[float64]</td>\n",
       "      <td id=\"T_c4886_row6_col2\" class=\"data row6 col2\" >Mean (sd) : 13.0 (8.3)<br>min < med < max:<br>0.0 < 12.0 < 30.0<br>IQR (CV) : 13.0 (1.6)</td>\n",
       "      <td id=\"T_c4886_row6_col3\" class=\"data row6 col3\" >31 distinct values</td>\n",
       "      <td id=\"T_c4886_row6_col4\" class=\"data row6 col4\" ><img src = \"data:image/png;base64, iVBORw0KGgoAAAANSUhEUgAAAKoAAABGCAYAAABc8A97AAAAOXRFWHRTb2Z0d2FyZQBNYXRwbG90bGliIHZlcnNpb24zLjguNCwgaHR0cHM6Ly9tYXRwbG90bGliLm9yZy8fJSN1AAAACXBIWXMAAA9hAAAPYQGoP6dpAAACjklEQVR4nO3cv2/aQBiH8fcgoCNQW/xosrF0jNQBKQtLt479Y7t26wBSZ4YunbJEkSICwg3CMXRJxwL2ucCXPJ/9tU/mAclId26z2Rhw6irHXgCwj4tjL+BUOecaZlYvOL7abDbPZa7nrdsZauAHVjGzdcHZ0PmQWd/pdD7HcdwsMvz09LRwzn0zs2WB8dBndpZfkq2hOuca3W73SxRF7bwXzrKsliTJh1ar9atSqaSHnA+9d5qm3sxubm9vf/R6vXme2fv7+3fj8fhTv9/vVavVXKGGrtvMbD6fT51zX88t1l2/qPUoitrD4fA5juNcD/3u7q49mUzeDwaDn9fX19O8CwuZL+nel9779Orq6nee2el02vDeXw4Gg+Wh1z2bzfxoNGo/Pj7WzexNhWpmZnEcL4t8YGZmzWYz92zofFn3DnGMdb8KXvsp4q0fEggVEggVEggVEggVEggVEggVEggVEggVEggVEggVEggVEggVEggVEggVEggVEggVEggVEggVEtjXj9L8z7MQCBWlCNlab7Z7mzehoiyFt9bvs82bUFGqIlvrX23d5s3LFCQQKiQQKiQQKiQQKiQQKiTw99SZybKsZmaRc67IeMghwtF6va4VnN2JUM9IkiS1NE0/9vv96qEPEU7T1GdZdrNcLr+bWdEjM/+JUM/IarW6ONYhwn8PP355eanmnd0HoZ4h1cOPt+FlChIIFRIIFRIIFRIIFRIIFRIIFRIIFRIIFRIIFRIIFRIIFRIIFRIIFRIIFRIIFRIIFRIIFRIIFRIIFRIIFRIIFRIIFRIIFRIIFRIIFRIIFRIIFRIIFRL2Os1vNpv5vBdeLBbezCxJEv/w8HB5yHnVe6uuO3R+n77+ADk1U+Yq8vELAAAAAElFTkSuQmCC\"></img></td>\n",
       "      <td id=\"T_c4886_row6_col5\" class=\"data row6 col5\" >0<br>(0.0%)</td>\n",
       "    </tr>\n",
       "    <tr>\n",
       "      <td id=\"T_c4886_row7_col0\" class=\"data row7 col0\" >8</td>\n",
       "      <td id=\"T_c4886_row7_col1\" class=\"data row7 col1\" ><strong>Subscription Type</strong><br>[object]</td>\n",
       "      <td id=\"T_c4886_row7_col2\" class=\"data row7 col2\" >1. Standard<br>2. Premium<br>3. Basic</td>\n",
       "      <td id=\"T_c4886_row7_col3\" class=\"data row7 col3\" >149,128 (33.8%)<br>148,678 (33.7%)<br>143,026 (32.4%)</td>\n",
       "      <td id=\"T_c4886_row7_col4\" class=\"data row7 col4\" ><img src = \"data:image/png;base64, iVBORw0KGgoAAAANSUhEUgAAAJsAAABFCAYAAABdVZTTAAAAOXRFWHRTb2Z0d2FyZQBNYXRwbG90bGliIHZlcnNpb24zLjguNCwgaHR0cHM6Ly9tYXRwbG90bGliLm9yZy8fJSN1AAAACXBIWXMAAA9hAAAPYQGoP6dpAAABf0lEQVR4nO3bQUrzYBSG0ZufIDpJKIUupotwsf8isptSmoGKkzhwqDPL+8XPc1ZwCw8tCX2HbdsKEv61PoC/Y6iqp6p6aH3IHb1v2/ba+gi+Go/H4/M0TYfWh9zLuq7XYRj+C25/xmmaDufz+XWe57fWx/zU7XZ7XJblcLlcHqpKbDszVlXN8/x2Op1eWh9zJ0+tD+B7HhCIERsxYiNGbMSIjRixESM2YsRGjNiIERsxYiNGbMSIjRixETNWff4PrPUh99DL5+jVuK7rdVmWQ3XyP7B1Xa9V9d76Dr6yQSBmMOUjxTcbMdZVxFhXEWNdRYyXusSIjRixESM2YsRGjNiIERsxYiNGbMSIjRixESM2YsRGjNiIsa4ixrqKGBsEYqyriPGAQExPP6N+PneumymfCd/+dTHlM+H7HXqa8nXx6qZnHhCIERsxYiNGbMSIjRixESM2YsRGjNiIERsxYiNGbMSIjRixEdPFlO+33/9XdDPlM+HbPxsEYkz5iPkA1nijSgEdauIAAAAASUVORK5CYII=\"></img></td>\n",
       "      <td id=\"T_c4886_row7_col5\" class=\"data row7 col5\" >0<br>(0.0%)</td>\n",
       "    </tr>\n",
       "    <tr>\n",
       "      <td id=\"T_c4886_row8_col0\" class=\"data row8 col0\" >9</td>\n",
       "      <td id=\"T_c4886_row8_col1\" class=\"data row8 col1\" ><strong>Contract Length</strong><br>[object]</td>\n",
       "      <td id=\"T_c4886_row8_col2\" class=\"data row8 col2\" >1. Annual<br>2. Quarterly<br>3. Monthly</td>\n",
       "      <td id=\"T_c4886_row8_col3\" class=\"data row8 col3\" >177,198 (40.2%)<br>176,530 (40.0%)<br>87,104 (19.8%)</td>\n",
       "      <td id=\"T_c4886_row8_col4\" class=\"data row8 col4\" ><img src = \"data:image/png;base64, iVBORw0KGgoAAAANSUhEUgAAAJsAAABFCAYAAABdVZTTAAAAOXRFWHRTb2Z0d2FyZQBNYXRwbG90bGliIHZlcnNpb24zLjguNCwgaHR0cHM6Ly9tYXRwbG90bGliLm9yZy8fJSN1AAAACXBIWXMAAA9hAAAPYQGoP6dpAAABdUlEQVR4nO3bQWrCUBSF4ZsSpE4SRHAxLqKL7SKyGxHfoIqTdNA9nFd437eCK/woCZ5p3/eChI/eBzCOqaqOVXXofUgH733fn72PGMl8Pp+/lmU59T4krbV2n6bpW3A587Isp+v1+lzX9dX7mJTH4/G5bdvpdrsdqkpsIXNV1bqur8vl8tP7mLBj7wNG4wGBGLERIzZixEaM2IgRGzFiI0ZsxIiNGLERIzZixEaM2IgRGzFz1d//u3ofkjTa5/0v5tbafdu2Uw32/67W2r2q3r3vGIkNAjGTKR8pvtmIsa4SXIx1lXVVjHUVMV7qEiM2YsRGjNiIERsxYiNGbMSIjRixESM2YsRGjNiIERsxYiPGuooY6ypibBCIsa4ixgMCMb1/Rv2UDaTrlM+cbizdpnzmdOPpPeUb6nXL6DwgECM2YsRGjNiIERsxYiNGbMSIjRixESM2YsRGjNiIERsxYiOm25TPnG48Xad85nRjsUEgxpSPmF9KvKNKKutCbQAAAABJRU5ErkJggg==\"></img></td>\n",
       "      <td id=\"T_c4886_row8_col5\" class=\"data row8 col5\" >0<br>(0.0%)</td>\n",
       "    </tr>\n",
       "    <tr>\n",
       "      <td id=\"T_c4886_row9_col0\" class=\"data row9 col0\" >10</td>\n",
       "      <td id=\"T_c4886_row9_col1\" class=\"data row9 col1\" ><strong>Total Spend</strong><br>[float64]</td>\n",
       "      <td id=\"T_c4886_row9_col2\" class=\"data row9 col2\" >Mean (sd) : 631.6 (240.8)<br>min < med < max:<br>100.0 < 661.0 < 1000.0<br>IQR (CV) : 350.0 (2.6)</td>\n",
       "      <td id=\"T_c4886_row9_col3\" class=\"data row9 col3\" >68,363 distinct values</td>\n",
       "      <td id=\"T_c4886_row9_col4\" class=\"data row9 col4\" ><img src = \"data:image/png;base64, iVBORw0KGgoAAAANSUhEUgAAAKoAAABGCAYAAABc8A97AAAAOXRFWHRTb2Z0d2FyZQBNYXRwbG90bGliIHZlcnNpb24zLjguNCwgaHR0cHM6Ly9tYXRwbG90bGliLm9yZy8fJSN1AAAACXBIWXMAAA9hAAAPYQGoP6dpAAACl0lEQVR4nO3dO28aQRSG4TMQWwM4u+IS3NGkdLeSG5p0KfNj3aZLAVJqijSpaBCSxUUQoyyXNClSYMzuLIYvfp/+eEbiteWVZhm32+0MuHSlc28AOMa7c28AxXLOVczsOuf4791u91TkfopCqCcQGEvJzLY5Z32j0fgcx3Etz/B0Ol04576a2Srn+iF7P/hLQqgFc85Vms3mlyiK6llnN5vN1XK5/Hhzc/OzVCqlWefTNPVmdnd/f/+91WrNs8yORqP3/X7/U6fTaZXL5cyhhu59Pp9PnHMPz8VKqMW7jqKo3u12n+I4zvSBD4fD+mAw+JAkyY/b29tJ1oX/zle992m73f6VZXYymVS899UkSVYBa+fa+2w2871er/74+HhtZoT6muI4XuWJxcysVqtlnv13PkTo2nnnzezg3nnqhwRChQRChQRChQRChQRChQRChQRChQRChQRChQRChQRChQQOpTwj4ExptN1ur4rez1tHqHuEnClN09RvNpu71Wr1zczynCLCHoS6X+iZ0up6vS6fanNvEaEeEHKmFMXiYQoSCBUSCBUSCBUSCBUSCBUSCBUSCBUSCBUSCBUSCBUSCBUSCBUSCBUSCBUSCBUSTnpwOvC77M0CLj8IXJv3ni7Mi6EGfOBBFx+YBV1+ELQ27z1dnoOhhr7kZjkvPjALu/wgdG3ee7o8L/1FDX7JLc/FB2Zhlx8UsXbWGZzWUf+jnvMltzyXFxDa/4enfkggVEggVEggVEggVEggVEggVEggVEggVEggVEggVEggVEggVEggVEggVEggVEggVEggVEggVEggVEggVEggVEggVEggVEggVEg46ptSZrOZz/qDF4uFNzNbLpd+PB5XX3NedW3VfYfOH9PXH3mhQtyhzaGaAAAAAElFTkSuQmCC\"></img></td>\n",
       "      <td id=\"T_c4886_row9_col5\" class=\"data row9 col5\" >0<br>(0.0%)</td>\n",
       "    </tr>\n",
       "    <tr>\n",
       "      <td id=\"T_c4886_row10_col0\" class=\"data row10 col0\" >11</td>\n",
       "      <td id=\"T_c4886_row10_col1\" class=\"data row10 col1\" ><strong>Last Interaction</strong><br>[float64]</td>\n",
       "      <td id=\"T_c4886_row10_col2\" class=\"data row10 col2\" >Mean (sd) : 14.5 (8.6)<br>min < med < max:<br>1.0 < 14.0 < 30.0<br>IQR (CV) : 15.0 (1.7)</td>\n",
       "      <td id=\"T_c4886_row10_col3\" class=\"data row10 col3\" >30 distinct values</td>\n",
       "      <td id=\"T_c4886_row10_col4\" class=\"data row10 col4\" ><img src = \"data:image/png;base64, iVBORw0KGgoAAAANSUhEUgAAAKoAAABGCAYAAABc8A97AAAAOXRFWHRTb2Z0d2FyZQBNYXRwbG90bGliIHZlcnNpb24zLjguNCwgaHR0cHM6Ly9tYXRwbG90bGliLm9yZy8fJSN1AAAACXBIWXMAAA9hAAAPYQGoP6dpAAACcElEQVR4nO3dvavaYBiG8efVo8SPJvhR3bJ0LHQQXFy6dewf27W7QmeHLp1cRBCNmB4xpOlwapcDahI9pze9frNP3ogXiviALssyA/51lde+AeAaD5ce4JxrmFm94PWPWZY9Fpz9b8/Gc2dDdc41er3eZ9/3O0Uuvt1u9865r2Z2KDDudbvdT0EQtNTO3u12G+fcF2K9nUvvqHXf9zuTyeQxCIJcL/hyuXwzm80+hmHYr1aruWNJksQzs/fj8fhbv9/fqZwdRZE3nU476/W6bmaEeiMXP/rNzIIgOAwGg595LrzZbBqe5zVHo9FhOBxu8t7YYrHozOfzpud5idLZfzQKzOCMq0Ito9Vq5Y7c7Ck25bNxW3zrhwRChQRChQRChQRChQRChQRChQRChQRChQRChQRChYS7/9aPfEruwZo9vfn8eoVZszvu4RLqHaRpWjMz3zmXd7TUHmyaprU4jt+12+0flUoleanZk5I7wGcjJ9Qbi+O4liTJhzAMq3l3YcvswZr9XU98OxqNvuddbywza1Z+B/jSsjmh3tjxeHwougtbdg/2tJ5YZL2xzOxpvujzvmbZnFDvpEwsyoqGbheWzfnWDwmECgmECgmECgmECgmECgmECgmECgmECgmECgmECgmECgmECgmECgmECgmECgmECgmECgmECgmECgmECgmECgmECgmECgmECgmECgmECgmECgmECgmECgmECgmECgmECgmECgmECgmECgmECgmECgmECgmECgmECgmECgmECgmECgmECgmECglX/Q16FEVe3gvv93vPzCyOY2+1WjVfcl71bNX7Ljt/TV+/Ad87RtEwSH4bAAAAAElFTkSuQmCC\"></img></td>\n",
       "      <td id=\"T_c4886_row10_col5\" class=\"data row10 col5\" >0<br>(0.0%)</td>\n",
       "    </tr>\n",
       "    <tr>\n",
       "      <td id=\"T_c4886_row11_col0\" class=\"data row11 col0\" >12</td>\n",
       "      <td id=\"T_c4886_row11_col1\" class=\"data row11 col1\" ><strong>Churn</strong><br>[float64]</td>\n",
       "      <td id=\"T_c4886_row11_col2\" class=\"data row11 col2\" >1. 1.0<br>2. 0.0</td>\n",
       "      <td id=\"T_c4886_row11_col3\" class=\"data row11 col3\" >249,999 (56.7%)<br>190,833 (43.3%)</td>\n",
       "      <td id=\"T_c4886_row11_col4\" class=\"data row11 col4\" ><img src = \"data:image/png;base64, iVBORw0KGgoAAAANSUhEUgAAAJsAAAAuCAYAAAA/ZmtKAAAAOXRFWHRTb2Z0d2FyZQBNYXRwbG90bGliIHZlcnNpb24zLjguNCwgaHR0cHM6Ly9tYXRwbG90bGliLm9yZy8fJSN1AAAACXBIWXMAAA9hAAAPYQGoP6dpAAABNklEQVR4nO3bQWqDQByF8TdFQrMZEcHDeIgetoeY24g4iyZkM13URTzAvBH7/U7wRz6EBF8opQhwCJLukm6tD7mwVynl0fqIM+jGcfyKMQ6tD7mqnPMaQvgmOKmLMQ7zPD/6vn+2PuZqtm37TCkNy7LcJBGbJPV9/5ym6af1MRd1b33AWXy0PgD/B7HBhthgQ2ywITbYEBtsiA02xAYbYoMNscGG2GBDbLAhNtgQG2yIDTad9PeRX+tDrojnetTlnNeU0iA+8qsi57xKerW+4wwYvNTH4GUXmPLBhTfbEW+hipjyvWF2VxdTvh2zu/qY8h3xi7wi/tSFDbHBhthgQ2ywITbYEBtsiA02xAYbYoMNscGG2GBDbLAhNtgQG2yIDTZM+XY8g/qY8r1hdlcXg5cjBi8V/QIKW2rfxJVRAgAAAABJRU5ErkJggg==\"></img></td>\n",
       "      <td id=\"T_c4886_row11_col5\" class=\"data row11 col5\" >0<br>(0.0%)</td>\n",
       "    </tr>\n",
       "  </tbody>\n",
       "</table>\n"
      ],
      "text/plain": [
       "<pandas.io.formats.style.Styler at 0x215879d3530>"
      ]
     },
     "execution_count": 86,
     "metadata": {},
     "output_type": "execute_result"
    }
   ],
   "source": [
    "dfSummary(train)"
   ]
  },
  {
   "cell_type": "code",
   "execution_count": 87,
   "metadata": {},
   "outputs": [
    {
     "data": {
      "text/html": [
       "<div>\n",
       "<style scoped>\n",
       "    .dataframe tbody tr th:only-of-type {\n",
       "        vertical-align: middle;\n",
       "    }\n",
       "\n",
       "    .dataframe tbody tr th {\n",
       "        vertical-align: top;\n",
       "    }\n",
       "\n",
       "    .dataframe thead th {\n",
       "        text-align: right;\n",
       "    }\n",
       "</style>\n",
       "<table border=\"1\" class=\"dataframe\">\n",
       "  <thead>\n",
       "    <tr style=\"text-align: right;\">\n",
       "      <th></th>\n",
       "      <th>Churn</th>\n",
       "      <th>Gender</th>\n",
       "      <th>Count</th>\n",
       "      <th>Proportion</th>\n",
       "    </tr>\n",
       "  </thead>\n",
       "  <tbody>\n",
       "    <tr>\n",
       "      <th>0</th>\n",
       "      <td>0.0</td>\n",
       "      <td>Female</td>\n",
       "      <td>63522</td>\n",
       "      <td>33.3</td>\n",
       "    </tr>\n",
       "    <tr>\n",
       "      <th>1</th>\n",
       "      <td>0.0</td>\n",
       "      <td>Male</td>\n",
       "      <td>127311</td>\n",
       "      <td>66.7</td>\n",
       "    </tr>\n",
       "    <tr>\n",
       "      <th>2</th>\n",
       "      <td>1.0</td>\n",
       "      <td>Female</td>\n",
       "      <td>127058</td>\n",
       "      <td>50.8</td>\n",
       "    </tr>\n",
       "    <tr>\n",
       "      <th>3</th>\n",
       "      <td>1.0</td>\n",
       "      <td>Male</td>\n",
       "      <td>122941</td>\n",
       "      <td>49.2</td>\n",
       "    </tr>\n",
       "  </tbody>\n",
       "</table>\n",
       "</div>"
      ],
      "text/plain": [
       "   Churn  Gender   Count  Proportion\n",
       "0    0.0  Female   63522        33.3\n",
       "1    0.0    Male  127311        66.7\n",
       "2    1.0  Female  127058        50.8\n",
       "3    1.0    Male  122941        49.2"
      ]
     },
     "execution_count": 87,
     "metadata": {},
     "output_type": "execute_result"
    }
   ],
   "source": [
    "gender_churn = train.groupby(['Churn', 'Gender']).size().reset_index(name='Count')\n",
    "gender_churn['Proportion'] = gender_churn['Count']/gender_churn.groupby('Churn')['Count'].transform('sum')\n",
    "gender_churn['Proportion'] = gender_churn['Proportion'].round(3)*100\n",
    "\n",
    "gender_churn"
   ]
  },
  {
   "cell_type": "markdown",
   "metadata": {},
   "source": [
    "It seems like women are less likely to churn:"
   ]
  },
  {
   "cell_type": "code",
   "execution_count": 88,
   "metadata": {},
   "outputs": [
    {
     "data": {
      "application/vnd.plotly.v1+json": {
       "config": {
        "plotlyServerURL": "https://plot.ly"
       },
       "data": [
        {
         "alignmentgroup": "True",
         "hovertemplate": "Gender=Female<br>Churn=%{x}<br>Proportion (%)=%{y}<extra></extra>",
         "legendgroup": "Female",
         "marker": {
          "color": "#636efa",
          "pattern": {
           "shape": ""
          }
         },
         "name": "Female",
         "offsetgroup": "Female",
         "orientation": "v",
         "showlegend": true,
         "textposition": "auto",
         "texttemplate": "%{y}",
         "type": "bar",
         "x": [
          0,
          1
         ],
         "xaxis": "x",
         "y": [
          33.300000000000004,
          50.8
         ],
         "yaxis": "y"
        },
        {
         "alignmentgroup": "True",
         "hovertemplate": "Gender=Male<br>Churn=%{x}<br>Proportion (%)=%{y}<extra></extra>",
         "legendgroup": "Male",
         "marker": {
          "color": "#EF553B",
          "pattern": {
           "shape": ""
          }
         },
         "name": "Male",
         "offsetgroup": "Male",
         "orientation": "v",
         "showlegend": true,
         "textposition": "auto",
         "texttemplate": "%{y}",
         "type": "bar",
         "x": [
          0,
          1
         ],
         "xaxis": "x",
         "y": [
          66.7,
          49.2
         ],
         "yaxis": "y"
        }
       ],
       "layout": {
        "barmode": "stack",
        "height": 400,
        "legend": {
         "title": {
          "text": "Gender"
         },
         "tracegroupgap": 0
        },
        "template": {
         "data": {
          "bar": [
           {
            "error_x": {
             "color": "#2a3f5f"
            },
            "error_y": {
             "color": "#2a3f5f"
            },
            "marker": {
             "line": {
              "color": "#E5ECF6",
              "width": 0.5
             },
             "pattern": {
              "fillmode": "overlay",
              "size": 10,
              "solidity": 0.2
             }
            },
            "type": "bar"
           }
          ],
          "barpolar": [
           {
            "marker": {
             "line": {
              "color": "#E5ECF6",
              "width": 0.5
             },
             "pattern": {
              "fillmode": "overlay",
              "size": 10,
              "solidity": 0.2
             }
            },
            "type": "barpolar"
           }
          ],
          "carpet": [
           {
            "aaxis": {
             "endlinecolor": "#2a3f5f",
             "gridcolor": "white",
             "linecolor": "white",
             "minorgridcolor": "white",
             "startlinecolor": "#2a3f5f"
            },
            "baxis": {
             "endlinecolor": "#2a3f5f",
             "gridcolor": "white",
             "linecolor": "white",
             "minorgridcolor": "white",
             "startlinecolor": "#2a3f5f"
            },
            "type": "carpet"
           }
          ],
          "choropleth": [
           {
            "colorbar": {
             "outlinewidth": 0,
             "ticks": ""
            },
            "type": "choropleth"
           }
          ],
          "contour": [
           {
            "colorbar": {
             "outlinewidth": 0,
             "ticks": ""
            },
            "colorscale": [
             [
              0,
              "#0d0887"
             ],
             [
              0.1111111111111111,
              "#46039f"
             ],
             [
              0.2222222222222222,
              "#7201a8"
             ],
             [
              0.3333333333333333,
              "#9c179e"
             ],
             [
              0.4444444444444444,
              "#bd3786"
             ],
             [
              0.5555555555555556,
              "#d8576b"
             ],
             [
              0.6666666666666666,
              "#ed7953"
             ],
             [
              0.7777777777777778,
              "#fb9f3a"
             ],
             [
              0.8888888888888888,
              "#fdca26"
             ],
             [
              1,
              "#f0f921"
             ]
            ],
            "type": "contour"
           }
          ],
          "contourcarpet": [
           {
            "colorbar": {
             "outlinewidth": 0,
             "ticks": ""
            },
            "type": "contourcarpet"
           }
          ],
          "heatmap": [
           {
            "colorbar": {
             "outlinewidth": 0,
             "ticks": ""
            },
            "colorscale": [
             [
              0,
              "#0d0887"
             ],
             [
              0.1111111111111111,
              "#46039f"
             ],
             [
              0.2222222222222222,
              "#7201a8"
             ],
             [
              0.3333333333333333,
              "#9c179e"
             ],
             [
              0.4444444444444444,
              "#bd3786"
             ],
             [
              0.5555555555555556,
              "#d8576b"
             ],
             [
              0.6666666666666666,
              "#ed7953"
             ],
             [
              0.7777777777777778,
              "#fb9f3a"
             ],
             [
              0.8888888888888888,
              "#fdca26"
             ],
             [
              1,
              "#f0f921"
             ]
            ],
            "type": "heatmap"
           }
          ],
          "heatmapgl": [
           {
            "colorbar": {
             "outlinewidth": 0,
             "ticks": ""
            },
            "colorscale": [
             [
              0,
              "#0d0887"
             ],
             [
              0.1111111111111111,
              "#46039f"
             ],
             [
              0.2222222222222222,
              "#7201a8"
             ],
             [
              0.3333333333333333,
              "#9c179e"
             ],
             [
              0.4444444444444444,
              "#bd3786"
             ],
             [
              0.5555555555555556,
              "#d8576b"
             ],
             [
              0.6666666666666666,
              "#ed7953"
             ],
             [
              0.7777777777777778,
              "#fb9f3a"
             ],
             [
              0.8888888888888888,
              "#fdca26"
             ],
             [
              1,
              "#f0f921"
             ]
            ],
            "type": "heatmapgl"
           }
          ],
          "histogram": [
           {
            "marker": {
             "pattern": {
              "fillmode": "overlay",
              "size": 10,
              "solidity": 0.2
             }
            },
            "type": "histogram"
           }
          ],
          "histogram2d": [
           {
            "colorbar": {
             "outlinewidth": 0,
             "ticks": ""
            },
            "colorscale": [
             [
              0,
              "#0d0887"
             ],
             [
              0.1111111111111111,
              "#46039f"
             ],
             [
              0.2222222222222222,
              "#7201a8"
             ],
             [
              0.3333333333333333,
              "#9c179e"
             ],
             [
              0.4444444444444444,
              "#bd3786"
             ],
             [
              0.5555555555555556,
              "#d8576b"
             ],
             [
              0.6666666666666666,
              "#ed7953"
             ],
             [
              0.7777777777777778,
              "#fb9f3a"
             ],
             [
              0.8888888888888888,
              "#fdca26"
             ],
             [
              1,
              "#f0f921"
             ]
            ],
            "type": "histogram2d"
           }
          ],
          "histogram2dcontour": [
           {
            "colorbar": {
             "outlinewidth": 0,
             "ticks": ""
            },
            "colorscale": [
             [
              0,
              "#0d0887"
             ],
             [
              0.1111111111111111,
              "#46039f"
             ],
             [
              0.2222222222222222,
              "#7201a8"
             ],
             [
              0.3333333333333333,
              "#9c179e"
             ],
             [
              0.4444444444444444,
              "#bd3786"
             ],
             [
              0.5555555555555556,
              "#d8576b"
             ],
             [
              0.6666666666666666,
              "#ed7953"
             ],
             [
              0.7777777777777778,
              "#fb9f3a"
             ],
             [
              0.8888888888888888,
              "#fdca26"
             ],
             [
              1,
              "#f0f921"
             ]
            ],
            "type": "histogram2dcontour"
           }
          ],
          "mesh3d": [
           {
            "colorbar": {
             "outlinewidth": 0,
             "ticks": ""
            },
            "type": "mesh3d"
           }
          ],
          "parcoords": [
           {
            "line": {
             "colorbar": {
              "outlinewidth": 0,
              "ticks": ""
             }
            },
            "type": "parcoords"
           }
          ],
          "pie": [
           {
            "automargin": true,
            "type": "pie"
           }
          ],
          "scatter": [
           {
            "fillpattern": {
             "fillmode": "overlay",
             "size": 10,
             "solidity": 0.2
            },
            "type": "scatter"
           }
          ],
          "scatter3d": [
           {
            "line": {
             "colorbar": {
              "outlinewidth": 0,
              "ticks": ""
             }
            },
            "marker": {
             "colorbar": {
              "outlinewidth": 0,
              "ticks": ""
             }
            },
            "type": "scatter3d"
           }
          ],
          "scattercarpet": [
           {
            "marker": {
             "colorbar": {
              "outlinewidth": 0,
              "ticks": ""
             }
            },
            "type": "scattercarpet"
           }
          ],
          "scattergeo": [
           {
            "marker": {
             "colorbar": {
              "outlinewidth": 0,
              "ticks": ""
             }
            },
            "type": "scattergeo"
           }
          ],
          "scattergl": [
           {
            "marker": {
             "colorbar": {
              "outlinewidth": 0,
              "ticks": ""
             }
            },
            "type": "scattergl"
           }
          ],
          "scattermapbox": [
           {
            "marker": {
             "colorbar": {
              "outlinewidth": 0,
              "ticks": ""
             }
            },
            "type": "scattermapbox"
           }
          ],
          "scatterpolar": [
           {
            "marker": {
             "colorbar": {
              "outlinewidth": 0,
              "ticks": ""
             }
            },
            "type": "scatterpolar"
           }
          ],
          "scatterpolargl": [
           {
            "marker": {
             "colorbar": {
              "outlinewidth": 0,
              "ticks": ""
             }
            },
            "type": "scatterpolargl"
           }
          ],
          "scatterternary": [
           {
            "marker": {
             "colorbar": {
              "outlinewidth": 0,
              "ticks": ""
             }
            },
            "type": "scatterternary"
           }
          ],
          "surface": [
           {
            "colorbar": {
             "outlinewidth": 0,
             "ticks": ""
            },
            "colorscale": [
             [
              0,
              "#0d0887"
             ],
             [
              0.1111111111111111,
              "#46039f"
             ],
             [
              0.2222222222222222,
              "#7201a8"
             ],
             [
              0.3333333333333333,
              "#9c179e"
             ],
             [
              0.4444444444444444,
              "#bd3786"
             ],
             [
              0.5555555555555556,
              "#d8576b"
             ],
             [
              0.6666666666666666,
              "#ed7953"
             ],
             [
              0.7777777777777778,
              "#fb9f3a"
             ],
             [
              0.8888888888888888,
              "#fdca26"
             ],
             [
              1,
              "#f0f921"
             ]
            ],
            "type": "surface"
           }
          ],
          "table": [
           {
            "cells": {
             "fill": {
              "color": "#EBF0F8"
             },
             "line": {
              "color": "white"
             }
            },
            "header": {
             "fill": {
              "color": "#C8D4E3"
             },
             "line": {
              "color": "white"
             }
            },
            "type": "table"
           }
          ]
         },
         "layout": {
          "annotationdefaults": {
           "arrowcolor": "#2a3f5f",
           "arrowhead": 0,
           "arrowwidth": 1
          },
          "autotypenumbers": "strict",
          "coloraxis": {
           "colorbar": {
            "outlinewidth": 0,
            "ticks": ""
           }
          },
          "colorscale": {
           "diverging": [
            [
             0,
             "#8e0152"
            ],
            [
             0.1,
             "#c51b7d"
            ],
            [
             0.2,
             "#de77ae"
            ],
            [
             0.3,
             "#f1b6da"
            ],
            [
             0.4,
             "#fde0ef"
            ],
            [
             0.5,
             "#f7f7f7"
            ],
            [
             0.6,
             "#e6f5d0"
            ],
            [
             0.7,
             "#b8e186"
            ],
            [
             0.8,
             "#7fbc41"
            ],
            [
             0.9,
             "#4d9221"
            ],
            [
             1,
             "#276419"
            ]
           ],
           "sequential": [
            [
             0,
             "#0d0887"
            ],
            [
             0.1111111111111111,
             "#46039f"
            ],
            [
             0.2222222222222222,
             "#7201a8"
            ],
            [
             0.3333333333333333,
             "#9c179e"
            ],
            [
             0.4444444444444444,
             "#bd3786"
            ],
            [
             0.5555555555555556,
             "#d8576b"
            ],
            [
             0.6666666666666666,
             "#ed7953"
            ],
            [
             0.7777777777777778,
             "#fb9f3a"
            ],
            [
             0.8888888888888888,
             "#fdca26"
            ],
            [
             1,
             "#f0f921"
            ]
           ],
           "sequentialminus": [
            [
             0,
             "#0d0887"
            ],
            [
             0.1111111111111111,
             "#46039f"
            ],
            [
             0.2222222222222222,
             "#7201a8"
            ],
            [
             0.3333333333333333,
             "#9c179e"
            ],
            [
             0.4444444444444444,
             "#bd3786"
            ],
            [
             0.5555555555555556,
             "#d8576b"
            ],
            [
             0.6666666666666666,
             "#ed7953"
            ],
            [
             0.7777777777777778,
             "#fb9f3a"
            ],
            [
             0.8888888888888888,
             "#fdca26"
            ],
            [
             1,
             "#f0f921"
            ]
           ]
          },
          "colorway": [
           "#636efa",
           "#EF553B",
           "#00cc96",
           "#ab63fa",
           "#FFA15A",
           "#19d3f3",
           "#FF6692",
           "#B6E880",
           "#FF97FF",
           "#FECB52"
          ],
          "font": {
           "color": "#2a3f5f"
          },
          "geo": {
           "bgcolor": "white",
           "lakecolor": "white",
           "landcolor": "#E5ECF6",
           "showlakes": true,
           "showland": true,
           "subunitcolor": "white"
          },
          "hoverlabel": {
           "align": "left"
          },
          "hovermode": "closest",
          "mapbox": {
           "style": "light"
          },
          "paper_bgcolor": "white",
          "plot_bgcolor": "#E5ECF6",
          "polar": {
           "angularaxis": {
            "gridcolor": "white",
            "linecolor": "white",
            "ticks": ""
           },
           "bgcolor": "#E5ECF6",
           "radialaxis": {
            "gridcolor": "white",
            "linecolor": "white",
            "ticks": ""
           }
          },
          "scene": {
           "xaxis": {
            "backgroundcolor": "#E5ECF6",
            "gridcolor": "white",
            "gridwidth": 2,
            "linecolor": "white",
            "showbackground": true,
            "ticks": "",
            "zerolinecolor": "white"
           },
           "yaxis": {
            "backgroundcolor": "#E5ECF6",
            "gridcolor": "white",
            "gridwidth": 2,
            "linecolor": "white",
            "showbackground": true,
            "ticks": "",
            "zerolinecolor": "white"
           },
           "zaxis": {
            "backgroundcolor": "#E5ECF6",
            "gridcolor": "white",
            "gridwidth": 2,
            "linecolor": "white",
            "showbackground": true,
            "ticks": "",
            "zerolinecolor": "white"
           }
          },
          "shapedefaults": {
           "line": {
            "color": "#2a3f5f"
           }
          },
          "ternary": {
           "aaxis": {
            "gridcolor": "white",
            "linecolor": "white",
            "ticks": ""
           },
           "baxis": {
            "gridcolor": "white",
            "linecolor": "white",
            "ticks": ""
           },
           "bgcolor": "#E5ECF6",
           "caxis": {
            "gridcolor": "white",
            "linecolor": "white",
            "ticks": ""
           }
          },
          "title": {
           "x": 0.05
          },
          "xaxis": {
           "automargin": true,
           "gridcolor": "white",
           "linecolor": "white",
           "ticks": "",
           "title": {
            "standoff": 15
           },
           "zerolinecolor": "white",
           "zerolinewidth": 2
          },
          "yaxis": {
           "automargin": true,
           "gridcolor": "white",
           "linecolor": "white",
           "ticks": "",
           "title": {
            "standoff": 15
           },
           "zerolinecolor": "white",
           "zerolinewidth": 2
          }
         }
        },
        "title": {
         "text": "Gender distribution by churn status"
        },
        "width": 600,
        "xaxis": {
         "anchor": "y",
         "domain": [
          0,
          1
         ],
         "tickmode": "array",
         "ticktext": [
          "0",
          "1"
         ],
         "tickvals": [
          0,
          1
         ],
         "title": {
          "text": "Churn"
         }
        },
        "yaxis": {
         "anchor": "x",
         "domain": [
          0,
          1
         ],
         "title": {
          "text": "Proportion (%)"
         }
        }
       }
      }
     },
     "metadata": {},
     "output_type": "display_data"
    }
   ],
   "source": [
    "fig = px.bar(\n",
    "    gender_churn, \n",
    "    x='Churn', \n",
    "    y='Proportion', \n",
    "    color='Gender', \n",
    "    title='Gender distribution by churn status',\n",
    "    labels={'Proportion': 'Proportion (%)', 'Churn': 'Churn'},\n",
    "    barmode='stack',\n",
    "    text_auto=True)\n",
    "\n",
    "fig.update_layout(\n",
    "    width=600,\n",
    "    height=400,\n",
    "    xaxis=dict(tickmode='array', tickvals=[0, 1], ticktext=['0', '1']))\n",
    "\n",
    "fig.show()"
   ]
  },
  {
   "cell_type": "code",
   "execution_count": 89,
   "metadata": {},
   "outputs": [
    {
     "data": {
      "text/html": [
       "<div>\n",
       "<style scoped>\n",
       "    .dataframe tbody tr th:only-of-type {\n",
       "        vertical-align: middle;\n",
       "    }\n",
       "\n",
       "    .dataframe tbody tr th {\n",
       "        vertical-align: top;\n",
       "    }\n",
       "\n",
       "    .dataframe thead th {\n",
       "        text-align: right;\n",
       "    }\n",
       "</style>\n",
       "<table border=\"1\" class=\"dataframe\">\n",
       "  <thead>\n",
       "    <tr style=\"text-align: right;\">\n",
       "      <th></th>\n",
       "      <th>Churn</th>\n",
       "      <th>Subscription Type</th>\n",
       "      <th>Count</th>\n",
       "      <th>Proportion</th>\n",
       "    </tr>\n",
       "  </thead>\n",
       "  <tbody>\n",
       "    <tr>\n",
       "      <th>0</th>\n",
       "      <td>0.0</td>\n",
       "      <td>Basic</td>\n",
       "      <td>59816</td>\n",
       "      <td>31.3</td>\n",
       "    </tr>\n",
       "    <tr>\n",
       "      <th>1</th>\n",
       "      <td>0.0</td>\n",
       "      <td>Premium</td>\n",
       "      <td>65505</td>\n",
       "      <td>34.3</td>\n",
       "    </tr>\n",
       "    <tr>\n",
       "      <th>2</th>\n",
       "      <td>0.0</td>\n",
       "      <td>Standard</td>\n",
       "      <td>65512</td>\n",
       "      <td>34.3</td>\n",
       "    </tr>\n",
       "    <tr>\n",
       "      <th>3</th>\n",
       "      <td>1.0</td>\n",
       "      <td>Basic</td>\n",
       "      <td>83210</td>\n",
       "      <td>33.3</td>\n",
       "    </tr>\n",
       "    <tr>\n",
       "      <th>4</th>\n",
       "      <td>1.0</td>\n",
       "      <td>Premium</td>\n",
       "      <td>83173</td>\n",
       "      <td>33.3</td>\n",
       "    </tr>\n",
       "    <tr>\n",
       "      <th>5</th>\n",
       "      <td>1.0</td>\n",
       "      <td>Standard</td>\n",
       "      <td>83616</td>\n",
       "      <td>33.4</td>\n",
       "    </tr>\n",
       "  </tbody>\n",
       "</table>\n",
       "</div>"
      ],
      "text/plain": [
       "   Churn Subscription Type  Count  Proportion\n",
       "0    0.0             Basic  59816        31.3\n",
       "1    0.0           Premium  65505        34.3\n",
       "2    0.0          Standard  65512        34.3\n",
       "3    1.0             Basic  83210        33.3\n",
       "4    1.0           Premium  83173        33.3\n",
       "5    1.0          Standard  83616        33.4"
      ]
     },
     "execution_count": 89,
     "metadata": {},
     "output_type": "execute_result"
    }
   ],
   "source": [
    "subscription_type_churn = train.groupby(['Churn', 'Subscription Type']).size().reset_index(name='Count')\n",
    "subscription_type_churn['Proportion'] = subscription_type_churn['Count']/subscription_type_churn.groupby('Churn')['Count'].transform('sum')\n",
    "subscription_type_churn['Proportion'] = subscription_type_churn['Proportion'].round(3)*100\n",
    "\n",
    "subscription_type_churn"
   ]
  },
  {
   "cell_type": "markdown",
   "metadata": {},
   "source": [
    "And the Subscription Type doesn't give much information about churning or not"
   ]
  },
  {
   "cell_type": "code",
   "execution_count": 90,
   "metadata": {},
   "outputs": [
    {
     "data": {
      "application/vnd.plotly.v1+json": {
       "config": {
        "plotlyServerURL": "https://plot.ly"
       },
       "data": [
        {
         "alignmentgroup": "True",
         "hovertemplate": "Subscription Type=Basic<br>Churn Category=%{x}<br>Proportion=%{y}<extra></extra>",
         "legendgroup": "Basic",
         "marker": {
          "color": "#636efa",
          "pattern": {
           "shape": ""
          }
         },
         "name": "Basic",
         "offsetgroup": "Basic",
         "orientation": "v",
         "showlegend": true,
         "textposition": "auto",
         "texttemplate": "%{y}",
         "type": "bar",
         "x": [
          0,
          1
         ],
         "xaxis": "x",
         "y": [
          31.3,
          33.300000000000004
         ],
         "yaxis": "y"
        },
        {
         "alignmentgroup": "True",
         "hovertemplate": "Subscription Type=Premium<br>Churn Category=%{x}<br>Proportion=%{y}<extra></extra>",
         "legendgroup": "Premium",
         "marker": {
          "color": "#EF553B",
          "pattern": {
           "shape": ""
          }
         },
         "name": "Premium",
         "offsetgroup": "Premium",
         "orientation": "v",
         "showlegend": true,
         "textposition": "auto",
         "texttemplate": "%{y}",
         "type": "bar",
         "x": [
          0,
          1
         ],
         "xaxis": "x",
         "y": [
          34.300000000000004,
          33.300000000000004
         ],
         "yaxis": "y"
        },
        {
         "alignmentgroup": "True",
         "hovertemplate": "Subscription Type=Standard<br>Churn Category=%{x}<br>Proportion=%{y}<extra></extra>",
         "legendgroup": "Standard",
         "marker": {
          "color": "#00cc96",
          "pattern": {
           "shape": ""
          }
         },
         "name": "Standard",
         "offsetgroup": "Standard",
         "orientation": "v",
         "showlegend": true,
         "textposition": "auto",
         "texttemplate": "%{y}",
         "type": "bar",
         "x": [
          0,
          1
         ],
         "xaxis": "x",
         "y": [
          34.300000000000004,
          33.4
         ],
         "yaxis": "y"
        }
       ],
       "layout": {
        "barmode": "stack",
        "height": 400,
        "legend": {
         "title": {
          "text": "Subscription Type"
         },
         "tracegroupgap": 0
        },
        "template": {
         "data": {
          "bar": [
           {
            "error_x": {
             "color": "#2a3f5f"
            },
            "error_y": {
             "color": "#2a3f5f"
            },
            "marker": {
             "line": {
              "color": "#E5ECF6",
              "width": 0.5
             },
             "pattern": {
              "fillmode": "overlay",
              "size": 10,
              "solidity": 0.2
             }
            },
            "type": "bar"
           }
          ],
          "barpolar": [
           {
            "marker": {
             "line": {
              "color": "#E5ECF6",
              "width": 0.5
             },
             "pattern": {
              "fillmode": "overlay",
              "size": 10,
              "solidity": 0.2
             }
            },
            "type": "barpolar"
           }
          ],
          "carpet": [
           {
            "aaxis": {
             "endlinecolor": "#2a3f5f",
             "gridcolor": "white",
             "linecolor": "white",
             "minorgridcolor": "white",
             "startlinecolor": "#2a3f5f"
            },
            "baxis": {
             "endlinecolor": "#2a3f5f",
             "gridcolor": "white",
             "linecolor": "white",
             "minorgridcolor": "white",
             "startlinecolor": "#2a3f5f"
            },
            "type": "carpet"
           }
          ],
          "choropleth": [
           {
            "colorbar": {
             "outlinewidth": 0,
             "ticks": ""
            },
            "type": "choropleth"
           }
          ],
          "contour": [
           {
            "colorbar": {
             "outlinewidth": 0,
             "ticks": ""
            },
            "colorscale": [
             [
              0,
              "#0d0887"
             ],
             [
              0.1111111111111111,
              "#46039f"
             ],
             [
              0.2222222222222222,
              "#7201a8"
             ],
             [
              0.3333333333333333,
              "#9c179e"
             ],
             [
              0.4444444444444444,
              "#bd3786"
             ],
             [
              0.5555555555555556,
              "#d8576b"
             ],
             [
              0.6666666666666666,
              "#ed7953"
             ],
             [
              0.7777777777777778,
              "#fb9f3a"
             ],
             [
              0.8888888888888888,
              "#fdca26"
             ],
             [
              1,
              "#f0f921"
             ]
            ],
            "type": "contour"
           }
          ],
          "contourcarpet": [
           {
            "colorbar": {
             "outlinewidth": 0,
             "ticks": ""
            },
            "type": "contourcarpet"
           }
          ],
          "heatmap": [
           {
            "colorbar": {
             "outlinewidth": 0,
             "ticks": ""
            },
            "colorscale": [
             [
              0,
              "#0d0887"
             ],
             [
              0.1111111111111111,
              "#46039f"
             ],
             [
              0.2222222222222222,
              "#7201a8"
             ],
             [
              0.3333333333333333,
              "#9c179e"
             ],
             [
              0.4444444444444444,
              "#bd3786"
             ],
             [
              0.5555555555555556,
              "#d8576b"
             ],
             [
              0.6666666666666666,
              "#ed7953"
             ],
             [
              0.7777777777777778,
              "#fb9f3a"
             ],
             [
              0.8888888888888888,
              "#fdca26"
             ],
             [
              1,
              "#f0f921"
             ]
            ],
            "type": "heatmap"
           }
          ],
          "heatmapgl": [
           {
            "colorbar": {
             "outlinewidth": 0,
             "ticks": ""
            },
            "colorscale": [
             [
              0,
              "#0d0887"
             ],
             [
              0.1111111111111111,
              "#46039f"
             ],
             [
              0.2222222222222222,
              "#7201a8"
             ],
             [
              0.3333333333333333,
              "#9c179e"
             ],
             [
              0.4444444444444444,
              "#bd3786"
             ],
             [
              0.5555555555555556,
              "#d8576b"
             ],
             [
              0.6666666666666666,
              "#ed7953"
             ],
             [
              0.7777777777777778,
              "#fb9f3a"
             ],
             [
              0.8888888888888888,
              "#fdca26"
             ],
             [
              1,
              "#f0f921"
             ]
            ],
            "type": "heatmapgl"
           }
          ],
          "histogram": [
           {
            "marker": {
             "pattern": {
              "fillmode": "overlay",
              "size": 10,
              "solidity": 0.2
             }
            },
            "type": "histogram"
           }
          ],
          "histogram2d": [
           {
            "colorbar": {
             "outlinewidth": 0,
             "ticks": ""
            },
            "colorscale": [
             [
              0,
              "#0d0887"
             ],
             [
              0.1111111111111111,
              "#46039f"
             ],
             [
              0.2222222222222222,
              "#7201a8"
             ],
             [
              0.3333333333333333,
              "#9c179e"
             ],
             [
              0.4444444444444444,
              "#bd3786"
             ],
             [
              0.5555555555555556,
              "#d8576b"
             ],
             [
              0.6666666666666666,
              "#ed7953"
             ],
             [
              0.7777777777777778,
              "#fb9f3a"
             ],
             [
              0.8888888888888888,
              "#fdca26"
             ],
             [
              1,
              "#f0f921"
             ]
            ],
            "type": "histogram2d"
           }
          ],
          "histogram2dcontour": [
           {
            "colorbar": {
             "outlinewidth": 0,
             "ticks": ""
            },
            "colorscale": [
             [
              0,
              "#0d0887"
             ],
             [
              0.1111111111111111,
              "#46039f"
             ],
             [
              0.2222222222222222,
              "#7201a8"
             ],
             [
              0.3333333333333333,
              "#9c179e"
             ],
             [
              0.4444444444444444,
              "#bd3786"
             ],
             [
              0.5555555555555556,
              "#d8576b"
             ],
             [
              0.6666666666666666,
              "#ed7953"
             ],
             [
              0.7777777777777778,
              "#fb9f3a"
             ],
             [
              0.8888888888888888,
              "#fdca26"
             ],
             [
              1,
              "#f0f921"
             ]
            ],
            "type": "histogram2dcontour"
           }
          ],
          "mesh3d": [
           {
            "colorbar": {
             "outlinewidth": 0,
             "ticks": ""
            },
            "type": "mesh3d"
           }
          ],
          "parcoords": [
           {
            "line": {
             "colorbar": {
              "outlinewidth": 0,
              "ticks": ""
             }
            },
            "type": "parcoords"
           }
          ],
          "pie": [
           {
            "automargin": true,
            "type": "pie"
           }
          ],
          "scatter": [
           {
            "fillpattern": {
             "fillmode": "overlay",
             "size": 10,
             "solidity": 0.2
            },
            "type": "scatter"
           }
          ],
          "scatter3d": [
           {
            "line": {
             "colorbar": {
              "outlinewidth": 0,
              "ticks": ""
             }
            },
            "marker": {
             "colorbar": {
              "outlinewidth": 0,
              "ticks": ""
             }
            },
            "type": "scatter3d"
           }
          ],
          "scattercarpet": [
           {
            "marker": {
             "colorbar": {
              "outlinewidth": 0,
              "ticks": ""
             }
            },
            "type": "scattercarpet"
           }
          ],
          "scattergeo": [
           {
            "marker": {
             "colorbar": {
              "outlinewidth": 0,
              "ticks": ""
             }
            },
            "type": "scattergeo"
           }
          ],
          "scattergl": [
           {
            "marker": {
             "colorbar": {
              "outlinewidth": 0,
              "ticks": ""
             }
            },
            "type": "scattergl"
           }
          ],
          "scattermapbox": [
           {
            "marker": {
             "colorbar": {
              "outlinewidth": 0,
              "ticks": ""
             }
            },
            "type": "scattermapbox"
           }
          ],
          "scatterpolar": [
           {
            "marker": {
             "colorbar": {
              "outlinewidth": 0,
              "ticks": ""
             }
            },
            "type": "scatterpolar"
           }
          ],
          "scatterpolargl": [
           {
            "marker": {
             "colorbar": {
              "outlinewidth": 0,
              "ticks": ""
             }
            },
            "type": "scatterpolargl"
           }
          ],
          "scatterternary": [
           {
            "marker": {
             "colorbar": {
              "outlinewidth": 0,
              "ticks": ""
             }
            },
            "type": "scatterternary"
           }
          ],
          "surface": [
           {
            "colorbar": {
             "outlinewidth": 0,
             "ticks": ""
            },
            "colorscale": [
             [
              0,
              "#0d0887"
             ],
             [
              0.1111111111111111,
              "#46039f"
             ],
             [
              0.2222222222222222,
              "#7201a8"
             ],
             [
              0.3333333333333333,
              "#9c179e"
             ],
             [
              0.4444444444444444,
              "#bd3786"
             ],
             [
              0.5555555555555556,
              "#d8576b"
             ],
             [
              0.6666666666666666,
              "#ed7953"
             ],
             [
              0.7777777777777778,
              "#fb9f3a"
             ],
             [
              0.8888888888888888,
              "#fdca26"
             ],
             [
              1,
              "#f0f921"
             ]
            ],
            "type": "surface"
           }
          ],
          "table": [
           {
            "cells": {
             "fill": {
              "color": "#EBF0F8"
             },
             "line": {
              "color": "white"
             }
            },
            "header": {
             "fill": {
              "color": "#C8D4E3"
             },
             "line": {
              "color": "white"
             }
            },
            "type": "table"
           }
          ]
         },
         "layout": {
          "annotationdefaults": {
           "arrowcolor": "#2a3f5f",
           "arrowhead": 0,
           "arrowwidth": 1
          },
          "autotypenumbers": "strict",
          "coloraxis": {
           "colorbar": {
            "outlinewidth": 0,
            "ticks": ""
           }
          },
          "colorscale": {
           "diverging": [
            [
             0,
             "#8e0152"
            ],
            [
             0.1,
             "#c51b7d"
            ],
            [
             0.2,
             "#de77ae"
            ],
            [
             0.3,
             "#f1b6da"
            ],
            [
             0.4,
             "#fde0ef"
            ],
            [
             0.5,
             "#f7f7f7"
            ],
            [
             0.6,
             "#e6f5d0"
            ],
            [
             0.7,
             "#b8e186"
            ],
            [
             0.8,
             "#7fbc41"
            ],
            [
             0.9,
             "#4d9221"
            ],
            [
             1,
             "#276419"
            ]
           ],
           "sequential": [
            [
             0,
             "#0d0887"
            ],
            [
             0.1111111111111111,
             "#46039f"
            ],
            [
             0.2222222222222222,
             "#7201a8"
            ],
            [
             0.3333333333333333,
             "#9c179e"
            ],
            [
             0.4444444444444444,
             "#bd3786"
            ],
            [
             0.5555555555555556,
             "#d8576b"
            ],
            [
             0.6666666666666666,
             "#ed7953"
            ],
            [
             0.7777777777777778,
             "#fb9f3a"
            ],
            [
             0.8888888888888888,
             "#fdca26"
            ],
            [
             1,
             "#f0f921"
            ]
           ],
           "sequentialminus": [
            [
             0,
             "#0d0887"
            ],
            [
             0.1111111111111111,
             "#46039f"
            ],
            [
             0.2222222222222222,
             "#7201a8"
            ],
            [
             0.3333333333333333,
             "#9c179e"
            ],
            [
             0.4444444444444444,
             "#bd3786"
            ],
            [
             0.5555555555555556,
             "#d8576b"
            ],
            [
             0.6666666666666666,
             "#ed7953"
            ],
            [
             0.7777777777777778,
             "#fb9f3a"
            ],
            [
             0.8888888888888888,
             "#fdca26"
            ],
            [
             1,
             "#f0f921"
            ]
           ]
          },
          "colorway": [
           "#636efa",
           "#EF553B",
           "#00cc96",
           "#ab63fa",
           "#FFA15A",
           "#19d3f3",
           "#FF6692",
           "#B6E880",
           "#FF97FF",
           "#FECB52"
          ],
          "font": {
           "color": "#2a3f5f"
          },
          "geo": {
           "bgcolor": "white",
           "lakecolor": "white",
           "landcolor": "#E5ECF6",
           "showlakes": true,
           "showland": true,
           "subunitcolor": "white"
          },
          "hoverlabel": {
           "align": "left"
          },
          "hovermode": "closest",
          "mapbox": {
           "style": "light"
          },
          "paper_bgcolor": "white",
          "plot_bgcolor": "#E5ECF6",
          "polar": {
           "angularaxis": {
            "gridcolor": "white",
            "linecolor": "white",
            "ticks": ""
           },
           "bgcolor": "#E5ECF6",
           "radialaxis": {
            "gridcolor": "white",
            "linecolor": "white",
            "ticks": ""
           }
          },
          "scene": {
           "xaxis": {
            "backgroundcolor": "#E5ECF6",
            "gridcolor": "white",
            "gridwidth": 2,
            "linecolor": "white",
            "showbackground": true,
            "ticks": "",
            "zerolinecolor": "white"
           },
           "yaxis": {
            "backgroundcolor": "#E5ECF6",
            "gridcolor": "white",
            "gridwidth": 2,
            "linecolor": "white",
            "showbackground": true,
            "ticks": "",
            "zerolinecolor": "white"
           },
           "zaxis": {
            "backgroundcolor": "#E5ECF6",
            "gridcolor": "white",
            "gridwidth": 2,
            "linecolor": "white",
            "showbackground": true,
            "ticks": "",
            "zerolinecolor": "white"
           }
          },
          "shapedefaults": {
           "line": {
            "color": "#2a3f5f"
           }
          },
          "ternary": {
           "aaxis": {
            "gridcolor": "white",
            "linecolor": "white",
            "ticks": ""
           },
           "baxis": {
            "gridcolor": "white",
            "linecolor": "white",
            "ticks": ""
           },
           "bgcolor": "#E5ECF6",
           "caxis": {
            "gridcolor": "white",
            "linecolor": "white",
            "ticks": ""
           }
          },
          "title": {
           "x": 0.05
          },
          "xaxis": {
           "automargin": true,
           "gridcolor": "white",
           "linecolor": "white",
           "ticks": "",
           "title": {
            "standoff": 15
           },
           "zerolinecolor": "white",
           "zerolinewidth": 2
          },
          "yaxis": {
           "automargin": true,
           "gridcolor": "white",
           "linecolor": "white",
           "ticks": "",
           "title": {
            "standoff": 15
           },
           "zerolinecolor": "white",
           "zerolinewidth": 2
          }
         }
        },
        "title": {
         "text": "Subscription Type distribution by churn status"
        },
        "width": 600,
        "xaxis": {
         "anchor": "y",
         "domain": [
          0,
          1
         ],
         "tickmode": "array",
         "ticktext": [
          "0",
          "1"
         ],
         "tickvals": [
          0,
          1
         ],
         "title": {
          "text": "Churn Category"
         }
        },
        "yaxis": {
         "anchor": "x",
         "domain": [
          0,
          1
         ],
         "title": {
          "text": "Proportion"
         }
        }
       }
      }
     },
     "metadata": {},
     "output_type": "display_data"
    }
   ],
   "source": [
    "fig = px.bar(\n",
    "    subscription_type_churn, \n",
    "    x='Churn', \n",
    "    y='Proportion', \n",
    "    color='Subscription Type', \n",
    "    title='Subscription Type distribution by churn status',\n",
    "    labels={'Proportion': 'Proportion', 'Churn': 'Churn Category'},\n",
    "    barmode='stack',\n",
    "    text_auto=True)\n",
    "\n",
    "fig.update_layout(\n",
    "    width=600,\n",
    "    height=400,\n",
    "    xaxis=dict(tickmode='array', tickvals=[0, 1], ticktext=['0', '1']))\n",
    "\n",
    "fig.show()"
   ]
  },
  {
   "cell_type": "code",
   "execution_count": 91,
   "metadata": {},
   "outputs": [
    {
     "data": {
      "text/html": [
       "<div>\n",
       "<style scoped>\n",
       "    .dataframe tbody tr th:only-of-type {\n",
       "        vertical-align: middle;\n",
       "    }\n",
       "\n",
       "    .dataframe tbody tr th {\n",
       "        vertical-align: top;\n",
       "    }\n",
       "\n",
       "    .dataframe thead th {\n",
       "        text-align: right;\n",
       "    }\n",
       "</style>\n",
       "<table border=\"1\" class=\"dataframe\">\n",
       "  <thead>\n",
       "    <tr style=\"text-align: right;\">\n",
       "      <th></th>\n",
       "      <th>Churn</th>\n",
       "      <th>Contract Length</th>\n",
       "      <th>Count</th>\n",
       "      <th>Proportion</th>\n",
       "    </tr>\n",
       "  </thead>\n",
       "  <tbody>\n",
       "    <tr>\n",
       "      <th>0</th>\n",
       "      <td>0.0</td>\n",
       "      <td>Annual</td>\n",
       "      <td>95552</td>\n",
       "      <td>50.1</td>\n",
       "    </tr>\n",
       "    <tr>\n",
       "      <th>1</th>\n",
       "      <td>0.0</td>\n",
       "      <td>Quarterly</td>\n",
       "      <td>95281</td>\n",
       "      <td>49.9</td>\n",
       "    </tr>\n",
       "    <tr>\n",
       "      <th>2</th>\n",
       "      <td>1.0</td>\n",
       "      <td>Annual</td>\n",
       "      <td>81646</td>\n",
       "      <td>32.7</td>\n",
       "    </tr>\n",
       "    <tr>\n",
       "      <th>3</th>\n",
       "      <td>1.0</td>\n",
       "      <td>Monthly</td>\n",
       "      <td>87104</td>\n",
       "      <td>34.8</td>\n",
       "    </tr>\n",
       "    <tr>\n",
       "      <th>4</th>\n",
       "      <td>1.0</td>\n",
       "      <td>Quarterly</td>\n",
       "      <td>81249</td>\n",
       "      <td>32.5</td>\n",
       "    </tr>\n",
       "  </tbody>\n",
       "</table>\n",
       "</div>"
      ],
      "text/plain": [
       "   Churn Contract Length  Count  Proportion\n",
       "0    0.0          Annual  95552        50.1\n",
       "1    0.0       Quarterly  95281        49.9\n",
       "2    1.0          Annual  81646        32.7\n",
       "3    1.0         Monthly  87104        34.8\n",
       "4    1.0       Quarterly  81249        32.5"
      ]
     },
     "execution_count": 91,
     "metadata": {},
     "output_type": "execute_result"
    }
   ],
   "source": [
    "contract_churn = train.groupby(['Churn', 'Contract Length']).size().reset_index(name='Count')\n",
    "contract_churn['Proportion'] = contract_churn['Count']/contract_churn.groupby('Churn')['Count'].transform('sum')\n",
    "contract_churn['Proportion'] = contract_churn['Proportion'].round(3)*100\n",
    "\n",
    "contract_churn"
   ]
  },
  {
   "cell_type": "markdown",
   "metadata": {},
   "source": [
    "On the other hand, all customers with monthly contracts are marked as churned. But we need to be careful with this data, because if churn is measured monthly, it can make customers with monthly contracts always appear as churned. "
   ]
  },
  {
   "cell_type": "code",
   "execution_count": 92,
   "metadata": {},
   "outputs": [
    {
     "data": {
      "application/vnd.plotly.v1+json": {
       "config": {
        "plotlyServerURL": "https://plot.ly"
       },
       "data": [
        {
         "alignmentgroup": "True",
         "hovertemplate": "Contract Length=Annual<br>Churn Category=%{x}<br>Proportion=%{y}<extra></extra>",
         "legendgroup": "Annual",
         "marker": {
          "color": "#636efa",
          "pattern": {
           "shape": ""
          }
         },
         "name": "Annual",
         "offsetgroup": "Annual",
         "orientation": "v",
         "showlegend": true,
         "textposition": "auto",
         "texttemplate": "%{y}",
         "type": "bar",
         "x": [
          0,
          1
         ],
         "xaxis": "x",
         "y": [
          50.1,
          32.7
         ],
         "yaxis": "y"
        },
        {
         "alignmentgroup": "True",
         "hovertemplate": "Contract Length=Quarterly<br>Churn Category=%{x}<br>Proportion=%{y}<extra></extra>",
         "legendgroup": "Quarterly",
         "marker": {
          "color": "#EF553B",
          "pattern": {
           "shape": ""
          }
         },
         "name": "Quarterly",
         "offsetgroup": "Quarterly",
         "orientation": "v",
         "showlegend": true,
         "textposition": "auto",
         "texttemplate": "%{y}",
         "type": "bar",
         "x": [
          0,
          1
         ],
         "xaxis": "x",
         "y": [
          49.9,
          32.5
         ],
         "yaxis": "y"
        },
        {
         "alignmentgroup": "True",
         "hovertemplate": "Contract Length=Monthly<br>Churn Category=%{x}<br>Proportion=%{y}<extra></extra>",
         "legendgroup": "Monthly",
         "marker": {
          "color": "#00cc96",
          "pattern": {
           "shape": ""
          }
         },
         "name": "Monthly",
         "offsetgroup": "Monthly",
         "orientation": "v",
         "showlegend": true,
         "textposition": "auto",
         "texttemplate": "%{y}",
         "type": "bar",
         "x": [
          1
         ],
         "xaxis": "x",
         "y": [
          34.8
         ],
         "yaxis": "y"
        }
       ],
       "layout": {
        "barmode": "stack",
        "height": 400,
        "legend": {
         "title": {
          "text": "Contract Length"
         },
         "tracegroupgap": 0
        },
        "template": {
         "data": {
          "bar": [
           {
            "error_x": {
             "color": "#2a3f5f"
            },
            "error_y": {
             "color": "#2a3f5f"
            },
            "marker": {
             "line": {
              "color": "#E5ECF6",
              "width": 0.5
             },
             "pattern": {
              "fillmode": "overlay",
              "size": 10,
              "solidity": 0.2
             }
            },
            "type": "bar"
           }
          ],
          "barpolar": [
           {
            "marker": {
             "line": {
              "color": "#E5ECF6",
              "width": 0.5
             },
             "pattern": {
              "fillmode": "overlay",
              "size": 10,
              "solidity": 0.2
             }
            },
            "type": "barpolar"
           }
          ],
          "carpet": [
           {
            "aaxis": {
             "endlinecolor": "#2a3f5f",
             "gridcolor": "white",
             "linecolor": "white",
             "minorgridcolor": "white",
             "startlinecolor": "#2a3f5f"
            },
            "baxis": {
             "endlinecolor": "#2a3f5f",
             "gridcolor": "white",
             "linecolor": "white",
             "minorgridcolor": "white",
             "startlinecolor": "#2a3f5f"
            },
            "type": "carpet"
           }
          ],
          "choropleth": [
           {
            "colorbar": {
             "outlinewidth": 0,
             "ticks": ""
            },
            "type": "choropleth"
           }
          ],
          "contour": [
           {
            "colorbar": {
             "outlinewidth": 0,
             "ticks": ""
            },
            "colorscale": [
             [
              0,
              "#0d0887"
             ],
             [
              0.1111111111111111,
              "#46039f"
             ],
             [
              0.2222222222222222,
              "#7201a8"
             ],
             [
              0.3333333333333333,
              "#9c179e"
             ],
             [
              0.4444444444444444,
              "#bd3786"
             ],
             [
              0.5555555555555556,
              "#d8576b"
             ],
             [
              0.6666666666666666,
              "#ed7953"
             ],
             [
              0.7777777777777778,
              "#fb9f3a"
             ],
             [
              0.8888888888888888,
              "#fdca26"
             ],
             [
              1,
              "#f0f921"
             ]
            ],
            "type": "contour"
           }
          ],
          "contourcarpet": [
           {
            "colorbar": {
             "outlinewidth": 0,
             "ticks": ""
            },
            "type": "contourcarpet"
           }
          ],
          "heatmap": [
           {
            "colorbar": {
             "outlinewidth": 0,
             "ticks": ""
            },
            "colorscale": [
             [
              0,
              "#0d0887"
             ],
             [
              0.1111111111111111,
              "#46039f"
             ],
             [
              0.2222222222222222,
              "#7201a8"
             ],
             [
              0.3333333333333333,
              "#9c179e"
             ],
             [
              0.4444444444444444,
              "#bd3786"
             ],
             [
              0.5555555555555556,
              "#d8576b"
             ],
             [
              0.6666666666666666,
              "#ed7953"
             ],
             [
              0.7777777777777778,
              "#fb9f3a"
             ],
             [
              0.8888888888888888,
              "#fdca26"
             ],
             [
              1,
              "#f0f921"
             ]
            ],
            "type": "heatmap"
           }
          ],
          "heatmapgl": [
           {
            "colorbar": {
             "outlinewidth": 0,
             "ticks": ""
            },
            "colorscale": [
             [
              0,
              "#0d0887"
             ],
             [
              0.1111111111111111,
              "#46039f"
             ],
             [
              0.2222222222222222,
              "#7201a8"
             ],
             [
              0.3333333333333333,
              "#9c179e"
             ],
             [
              0.4444444444444444,
              "#bd3786"
             ],
             [
              0.5555555555555556,
              "#d8576b"
             ],
             [
              0.6666666666666666,
              "#ed7953"
             ],
             [
              0.7777777777777778,
              "#fb9f3a"
             ],
             [
              0.8888888888888888,
              "#fdca26"
             ],
             [
              1,
              "#f0f921"
             ]
            ],
            "type": "heatmapgl"
           }
          ],
          "histogram": [
           {
            "marker": {
             "pattern": {
              "fillmode": "overlay",
              "size": 10,
              "solidity": 0.2
             }
            },
            "type": "histogram"
           }
          ],
          "histogram2d": [
           {
            "colorbar": {
             "outlinewidth": 0,
             "ticks": ""
            },
            "colorscale": [
             [
              0,
              "#0d0887"
             ],
             [
              0.1111111111111111,
              "#46039f"
             ],
             [
              0.2222222222222222,
              "#7201a8"
             ],
             [
              0.3333333333333333,
              "#9c179e"
             ],
             [
              0.4444444444444444,
              "#bd3786"
             ],
             [
              0.5555555555555556,
              "#d8576b"
             ],
             [
              0.6666666666666666,
              "#ed7953"
             ],
             [
              0.7777777777777778,
              "#fb9f3a"
             ],
             [
              0.8888888888888888,
              "#fdca26"
             ],
             [
              1,
              "#f0f921"
             ]
            ],
            "type": "histogram2d"
           }
          ],
          "histogram2dcontour": [
           {
            "colorbar": {
             "outlinewidth": 0,
             "ticks": ""
            },
            "colorscale": [
             [
              0,
              "#0d0887"
             ],
             [
              0.1111111111111111,
              "#46039f"
             ],
             [
              0.2222222222222222,
              "#7201a8"
             ],
             [
              0.3333333333333333,
              "#9c179e"
             ],
             [
              0.4444444444444444,
              "#bd3786"
             ],
             [
              0.5555555555555556,
              "#d8576b"
             ],
             [
              0.6666666666666666,
              "#ed7953"
             ],
             [
              0.7777777777777778,
              "#fb9f3a"
             ],
             [
              0.8888888888888888,
              "#fdca26"
             ],
             [
              1,
              "#f0f921"
             ]
            ],
            "type": "histogram2dcontour"
           }
          ],
          "mesh3d": [
           {
            "colorbar": {
             "outlinewidth": 0,
             "ticks": ""
            },
            "type": "mesh3d"
           }
          ],
          "parcoords": [
           {
            "line": {
             "colorbar": {
              "outlinewidth": 0,
              "ticks": ""
             }
            },
            "type": "parcoords"
           }
          ],
          "pie": [
           {
            "automargin": true,
            "type": "pie"
           }
          ],
          "scatter": [
           {
            "fillpattern": {
             "fillmode": "overlay",
             "size": 10,
             "solidity": 0.2
            },
            "type": "scatter"
           }
          ],
          "scatter3d": [
           {
            "line": {
             "colorbar": {
              "outlinewidth": 0,
              "ticks": ""
             }
            },
            "marker": {
             "colorbar": {
              "outlinewidth": 0,
              "ticks": ""
             }
            },
            "type": "scatter3d"
           }
          ],
          "scattercarpet": [
           {
            "marker": {
             "colorbar": {
              "outlinewidth": 0,
              "ticks": ""
             }
            },
            "type": "scattercarpet"
           }
          ],
          "scattergeo": [
           {
            "marker": {
             "colorbar": {
              "outlinewidth": 0,
              "ticks": ""
             }
            },
            "type": "scattergeo"
           }
          ],
          "scattergl": [
           {
            "marker": {
             "colorbar": {
              "outlinewidth": 0,
              "ticks": ""
             }
            },
            "type": "scattergl"
           }
          ],
          "scattermapbox": [
           {
            "marker": {
             "colorbar": {
              "outlinewidth": 0,
              "ticks": ""
             }
            },
            "type": "scattermapbox"
           }
          ],
          "scatterpolar": [
           {
            "marker": {
             "colorbar": {
              "outlinewidth": 0,
              "ticks": ""
             }
            },
            "type": "scatterpolar"
           }
          ],
          "scatterpolargl": [
           {
            "marker": {
             "colorbar": {
              "outlinewidth": 0,
              "ticks": ""
             }
            },
            "type": "scatterpolargl"
           }
          ],
          "scatterternary": [
           {
            "marker": {
             "colorbar": {
              "outlinewidth": 0,
              "ticks": ""
             }
            },
            "type": "scatterternary"
           }
          ],
          "surface": [
           {
            "colorbar": {
             "outlinewidth": 0,
             "ticks": ""
            },
            "colorscale": [
             [
              0,
              "#0d0887"
             ],
             [
              0.1111111111111111,
              "#46039f"
             ],
             [
              0.2222222222222222,
              "#7201a8"
             ],
             [
              0.3333333333333333,
              "#9c179e"
             ],
             [
              0.4444444444444444,
              "#bd3786"
             ],
             [
              0.5555555555555556,
              "#d8576b"
             ],
             [
              0.6666666666666666,
              "#ed7953"
             ],
             [
              0.7777777777777778,
              "#fb9f3a"
             ],
             [
              0.8888888888888888,
              "#fdca26"
             ],
             [
              1,
              "#f0f921"
             ]
            ],
            "type": "surface"
           }
          ],
          "table": [
           {
            "cells": {
             "fill": {
              "color": "#EBF0F8"
             },
             "line": {
              "color": "white"
             }
            },
            "header": {
             "fill": {
              "color": "#C8D4E3"
             },
             "line": {
              "color": "white"
             }
            },
            "type": "table"
           }
          ]
         },
         "layout": {
          "annotationdefaults": {
           "arrowcolor": "#2a3f5f",
           "arrowhead": 0,
           "arrowwidth": 1
          },
          "autotypenumbers": "strict",
          "coloraxis": {
           "colorbar": {
            "outlinewidth": 0,
            "ticks": ""
           }
          },
          "colorscale": {
           "diverging": [
            [
             0,
             "#8e0152"
            ],
            [
             0.1,
             "#c51b7d"
            ],
            [
             0.2,
             "#de77ae"
            ],
            [
             0.3,
             "#f1b6da"
            ],
            [
             0.4,
             "#fde0ef"
            ],
            [
             0.5,
             "#f7f7f7"
            ],
            [
             0.6,
             "#e6f5d0"
            ],
            [
             0.7,
             "#b8e186"
            ],
            [
             0.8,
             "#7fbc41"
            ],
            [
             0.9,
             "#4d9221"
            ],
            [
             1,
             "#276419"
            ]
           ],
           "sequential": [
            [
             0,
             "#0d0887"
            ],
            [
             0.1111111111111111,
             "#46039f"
            ],
            [
             0.2222222222222222,
             "#7201a8"
            ],
            [
             0.3333333333333333,
             "#9c179e"
            ],
            [
             0.4444444444444444,
             "#bd3786"
            ],
            [
             0.5555555555555556,
             "#d8576b"
            ],
            [
             0.6666666666666666,
             "#ed7953"
            ],
            [
             0.7777777777777778,
             "#fb9f3a"
            ],
            [
             0.8888888888888888,
             "#fdca26"
            ],
            [
             1,
             "#f0f921"
            ]
           ],
           "sequentialminus": [
            [
             0,
             "#0d0887"
            ],
            [
             0.1111111111111111,
             "#46039f"
            ],
            [
             0.2222222222222222,
             "#7201a8"
            ],
            [
             0.3333333333333333,
             "#9c179e"
            ],
            [
             0.4444444444444444,
             "#bd3786"
            ],
            [
             0.5555555555555556,
             "#d8576b"
            ],
            [
             0.6666666666666666,
             "#ed7953"
            ],
            [
             0.7777777777777778,
             "#fb9f3a"
            ],
            [
             0.8888888888888888,
             "#fdca26"
            ],
            [
             1,
             "#f0f921"
            ]
           ]
          },
          "colorway": [
           "#636efa",
           "#EF553B",
           "#00cc96",
           "#ab63fa",
           "#FFA15A",
           "#19d3f3",
           "#FF6692",
           "#B6E880",
           "#FF97FF",
           "#FECB52"
          ],
          "font": {
           "color": "#2a3f5f"
          },
          "geo": {
           "bgcolor": "white",
           "lakecolor": "white",
           "landcolor": "#E5ECF6",
           "showlakes": true,
           "showland": true,
           "subunitcolor": "white"
          },
          "hoverlabel": {
           "align": "left"
          },
          "hovermode": "closest",
          "mapbox": {
           "style": "light"
          },
          "paper_bgcolor": "white",
          "plot_bgcolor": "#E5ECF6",
          "polar": {
           "angularaxis": {
            "gridcolor": "white",
            "linecolor": "white",
            "ticks": ""
           },
           "bgcolor": "#E5ECF6",
           "radialaxis": {
            "gridcolor": "white",
            "linecolor": "white",
            "ticks": ""
           }
          },
          "scene": {
           "xaxis": {
            "backgroundcolor": "#E5ECF6",
            "gridcolor": "white",
            "gridwidth": 2,
            "linecolor": "white",
            "showbackground": true,
            "ticks": "",
            "zerolinecolor": "white"
           },
           "yaxis": {
            "backgroundcolor": "#E5ECF6",
            "gridcolor": "white",
            "gridwidth": 2,
            "linecolor": "white",
            "showbackground": true,
            "ticks": "",
            "zerolinecolor": "white"
           },
           "zaxis": {
            "backgroundcolor": "#E5ECF6",
            "gridcolor": "white",
            "gridwidth": 2,
            "linecolor": "white",
            "showbackground": true,
            "ticks": "",
            "zerolinecolor": "white"
           }
          },
          "shapedefaults": {
           "line": {
            "color": "#2a3f5f"
           }
          },
          "ternary": {
           "aaxis": {
            "gridcolor": "white",
            "linecolor": "white",
            "ticks": ""
           },
           "baxis": {
            "gridcolor": "white",
            "linecolor": "white",
            "ticks": ""
           },
           "bgcolor": "#E5ECF6",
           "caxis": {
            "gridcolor": "white",
            "linecolor": "white",
            "ticks": ""
           }
          },
          "title": {
           "x": 0.05
          },
          "xaxis": {
           "automargin": true,
           "gridcolor": "white",
           "linecolor": "white",
           "ticks": "",
           "title": {
            "standoff": 15
           },
           "zerolinecolor": "white",
           "zerolinewidth": 2
          },
          "yaxis": {
           "automargin": true,
           "gridcolor": "white",
           "linecolor": "white",
           "ticks": "",
           "title": {
            "standoff": 15
           },
           "zerolinecolor": "white",
           "zerolinewidth": 2
          }
         }
        },
        "title": {
         "text": "Contract Length distribution by churn status"
        },
        "width": 600,
        "xaxis": {
         "anchor": "y",
         "domain": [
          0,
          1
         ],
         "tickmode": "array",
         "ticktext": [
          "0",
          "1"
         ],
         "tickvals": [
          0,
          1
         ],
         "title": {
          "text": "Churn Category"
         }
        },
        "yaxis": {
         "anchor": "x",
         "domain": [
          0,
          1
         ],
         "title": {
          "text": "Proportion"
         }
        }
       }
      }
     },
     "metadata": {},
     "output_type": "display_data"
    }
   ],
   "source": [
    "fig = px.bar(\n",
    "    contract_churn, \n",
    "    x='Churn', \n",
    "    y='Proportion', \n",
    "    color='Contract Length', \n",
    "    title='Contract Length distribution by churn status',\n",
    "    labels={'Proportion': 'Proportion', 'Churn': 'Churn Category'},\n",
    "    barmode='stack',\n",
    "    text_auto=True)\n",
    "\n",
    "fig.update_layout(\n",
    "    width=600,\n",
    "    height=400,\n",
    "    xaxis=dict(tickmode='array', tickvals=[0, 1], ticktext=['0', '1']))\n",
    "\n",
    "fig.show()"
   ]
  },
  {
   "cell_type": "markdown",
   "metadata": {},
   "source": [
    "Looking at the numerical variables, those who __do not churn__ are:\n",
    "\n",
    "* Less likely to make alot of support calls.\n",
    "\n",
    "* Less likely to delay the payment for more than 20 days.\n",
    "\n",
    "* Less likely to have a low total spending.\n",
    "\n",
    "* Similar in Tenure, Usage Frequency and Last Interaction as those who __churn__.\n",
    "\n",
    "* Relatively younger than those who __churn__."
   ]
  },
  {
   "cell_type": "code",
   "execution_count": 93,
   "metadata": {},
   "outputs": [
    {
     "data": {
      "image/png": "[encoded data removed]",
      "text/plain": [
       "<Figure size 800x700 with 7 Axes>"
      ]
     },
     "metadata": {},
     "output_type": "display_data"
    }
   ],
   "source": [
    "fig, axes = plt.subplots(3,3,figsize=(8,7))\n",
    "\n",
    "sns.boxplot(data=train, x='Churn', y='Age', ax=axes[0,0])\n",
    "sns.boxplot(data=train, x='Churn', y='Tenure', ax=axes[0,1])\n",
    "sns.boxplot(data=train, x='Churn', y='Usage Frequency', ax=axes[0,2])\n",
    "sns.boxplot(data=train, x='Churn', y='Support Calls', ax=axes[1,0])\n",
    "sns.boxplot(data=train, x='Churn', y='Payment Delay', ax=axes[1,1])\n",
    "sns.boxplot(data=train, x='Churn', y='Total Spend', ax=axes[1,2])\n",
    "sns.boxplot(data=train, x='Churn', y='Last Interaction', ax=axes[2,0])\n",
    "\n",
    "axes[2, 1].remove()\n",
    "axes[2, 2].remove()\n",
    "\n",
    "plt.tight_layout()"
   ]
  },
  {
   "cell_type": "markdown",
   "metadata": {},
   "source": [
    "Now, taking a look at the correlation between the numerical variables, it is possible to see that:\n",
    "\n",
    "* Higher values of Support Calls are associated with higher Age and Payment Delay.\n",
    "\n",
    "* Higher values of Total Spend are associated with lower values of Support Calls and Payment Delay."
   ]
  },
  {
   "cell_type": "code",
   "execution_count": 94,
   "metadata": {},
   "outputs": [
    {
     "data": {
      "text/plain": [
       "<Axes: >"
      ]
     },
     "execution_count": 94,
     "metadata": {},
     "output_type": "execute_result"
    },
    {
     "data": {
      "image/png": "[encoded data removed]",
      "text/plain": [
       "<Figure size 800x700 with 2 Axes>"
      ]
     },
     "metadata": {},
     "output_type": "display_data"
    }
   ],
   "source": [
    "numeric_cols = cols = ['Age', 'Tenure', 'Usage Frequency', 'Support Calls', 'Payment Delay', 'Total Spend', 'Last Interaction']\n",
    "\n",
    "corr_matrix = train[numeric_cols].corr()\n",
    "\n",
    "mask = np.triu(corr_matrix)\n",
    "\n",
    "plt.figure(figsize=(8, 7))\n",
    "sns.heatmap(corr_matrix, annot=True, mask=mask, cmap='coolwarm')"
   ]
  },
  {
   "cell_type": "code",
   "execution_count": 95,
   "metadata": {},
   "outputs": [],
   "source": [
    "# train.drop(columns='CustomerID', inplace=True)\n",
    "\n",
    "# 1:09"
   ]
  },
  {
   "cell_type": "markdown",
   "metadata": {},
   "source": [
    "# Modeling"
   ]
  },
  {
   "cell_type": "markdown",
   "metadata": {},
   "source": [
    "The proportion of churn and non-churn observations are similar, with 56% of churn and 43% of non-churn: "
   ]
  },
  {
   "cell_type": "code",
   "execution_count": 96,
   "metadata": {},
   "outputs": [
    {
     "data": {
      "text/plain": [
       "Churn\n",
       "1.0    0.567107\n",
       "0.0    0.432893\n",
       "Name: proportion, dtype: float64"
      ]
     },
     "execution_count": 96,
     "metadata": {},
     "output_type": "execute_result"
    }
   ],
   "source": [
    "train['Churn'].value_counts(1)"
   ]
  },
  {
   "cell_type": "markdown",
   "metadata": {},
   "source": [
    "If the proportions were something like 80% and 20%, we could apply a technique known as __class weighting__, which is used in classification problems with unbalanced classes. This technique assigns higher weights to observations of the minoritary class, forcing the algorithm to pay closer attention to these observations and making it less likely to make mistakes.\n",
    "\n",
    "Because in this particular dataset the classes aren't so unbalanced, there's no need to do such thing, so we'll just skip this step."
   ]
  },
  {
   "cell_type": "code",
   "execution_count": 97,
   "metadata": {},
   "outputs": [
    {
     "data": {
      "text/html": [
       "<div>\n",
       "<style scoped>\n",
       "    .dataframe tbody tr th:only-of-type {\n",
       "        vertical-align: middle;\n",
       "    }\n",
       "\n",
       "    .dataframe tbody tr th {\n",
       "        vertical-align: top;\n",
       "    }\n",
       "\n",
       "    .dataframe thead th {\n",
       "        text-align: right;\n",
       "    }\n",
       "</style>\n",
       "<table border=\"1\" class=\"dataframe\">\n",
       "  <thead>\n",
       "    <tr style=\"text-align: right;\">\n",
       "      <th></th>\n",
       "      <th>CustomerID</th>\n",
       "      <th>Age</th>\n",
       "      <th>Gender</th>\n",
       "      <th>Tenure</th>\n",
       "      <th>Usage Frequency</th>\n",
       "      <th>Support Calls</th>\n",
       "      <th>Payment Delay</th>\n",
       "      <th>Subscription Type</th>\n",
       "      <th>Contract Length</th>\n",
       "      <th>Total Spend</th>\n",
       "      <th>Last Interaction</th>\n",
       "      <th>Churn</th>\n",
       "    </tr>\n",
       "  </thead>\n",
       "  <tbody>\n",
       "    <tr>\n",
       "      <th>0</th>\n",
       "      <td>2.0</td>\n",
       "      <td>30.0</td>\n",
       "      <td>Female</td>\n",
       "      <td>39.0</td>\n",
       "      <td>14.0</td>\n",
       "      <td>5.0</td>\n",
       "      <td>18.0</td>\n",
       "      <td>Standard</td>\n",
       "      <td>Annual</td>\n",
       "      <td>932.0</td>\n",
       "      <td>17.0</td>\n",
       "      <td>1.0</td>\n",
       "    </tr>\n",
       "    <tr>\n",
       "      <th>1</th>\n",
       "      <td>3.0</td>\n",
       "      <td>65.0</td>\n",
       "      <td>Female</td>\n",
       "      <td>49.0</td>\n",
       "      <td>1.0</td>\n",
       "      <td>10.0</td>\n",
       "      <td>8.0</td>\n",
       "      <td>Basic</td>\n",
       "      <td>Monthly</td>\n",
       "      <td>557.0</td>\n",
       "      <td>6.0</td>\n",
       "      <td>1.0</td>\n",
       "    </tr>\n",
       "    <tr>\n",
       "      <th>2</th>\n",
       "      <td>4.0</td>\n",
       "      <td>55.0</td>\n",
       "      <td>Female</td>\n",
       "      <td>14.0</td>\n",
       "      <td>4.0</td>\n",
       "      <td>6.0</td>\n",
       "      <td>18.0</td>\n",
       "      <td>Basic</td>\n",
       "      <td>Quarterly</td>\n",
       "      <td>185.0</td>\n",
       "      <td>3.0</td>\n",
       "      <td>1.0</td>\n",
       "    </tr>\n",
       "    <tr>\n",
       "      <th>3</th>\n",
       "      <td>5.0</td>\n",
       "      <td>58.0</td>\n",
       "      <td>Male</td>\n",
       "      <td>38.0</td>\n",
       "      <td>21.0</td>\n",
       "      <td>7.0</td>\n",
       "      <td>7.0</td>\n",
       "      <td>Standard</td>\n",
       "      <td>Monthly</td>\n",
       "      <td>396.0</td>\n",
       "      <td>29.0</td>\n",
       "      <td>1.0</td>\n",
       "    </tr>\n",
       "    <tr>\n",
       "      <th>4</th>\n",
       "      <td>6.0</td>\n",
       "      <td>23.0</td>\n",
       "      <td>Male</td>\n",
       "      <td>32.0</td>\n",
       "      <td>20.0</td>\n",
       "      <td>5.0</td>\n",
       "      <td>8.0</td>\n",
       "      <td>Basic</td>\n",
       "      <td>Monthly</td>\n",
       "      <td>617.0</td>\n",
       "      <td>20.0</td>\n",
       "      <td>1.0</td>\n",
       "    </tr>\n",
       "  </tbody>\n",
       "</table>\n",
       "</div>"
      ],
      "text/plain": [
       "   CustomerID   Age  Gender  Tenure  Usage Frequency  Support Calls  \\\n",
       "0         2.0  30.0  Female    39.0             14.0            5.0   \n",
       "1         3.0  65.0  Female    49.0              1.0           10.0   \n",
       "2         4.0  55.0  Female    14.0              4.0            6.0   \n",
       "3         5.0  58.0    Male    38.0             21.0            7.0   \n",
       "4         6.0  23.0    Male    32.0             20.0            5.0   \n",
       "\n",
       "   Payment Delay Subscription Type Contract Length  Total Spend  \\\n",
       "0           18.0          Standard          Annual        932.0   \n",
       "1            8.0             Basic         Monthly        557.0   \n",
       "2           18.0             Basic       Quarterly        185.0   \n",
       "3            7.0          Standard         Monthly        396.0   \n",
       "4            8.0             Basic         Monthly        617.0   \n",
       "\n",
       "   Last Interaction  Churn  \n",
       "0              17.0    1.0  \n",
       "1               6.0    1.0  \n",
       "2               3.0    1.0  \n",
       "3              29.0    1.0  \n",
       "4              20.0    1.0  "
      ]
     },
     "execution_count": 97,
     "metadata": {},
     "output_type": "execute_result"
    }
   ],
   "source": [
    "train.head()"
   ]
  },
  {
   "cell_type": "code",
   "execution_count": 98,
   "metadata": {},
   "outputs": [],
   "source": [
    "X_train = train.drop(columns = ['Churn', 'CustomerID'])\n",
    "y_train = train['Churn']"
   ]
  },
  {
   "cell_type": "markdown",
   "metadata": {},
   "source": [
    "The proportion of churn and non-churn on the test dataset is similar:"
   ]
  },
  {
   "cell_type": "code",
   "execution_count": 99,
   "metadata": {},
   "outputs": [],
   "source": [
    "test = pd.read_csv(\"data/customer_churn_dataset-testing-master.csv\")\n",
    "test['Churn'].value_counts(1)\n",
    "\n",
    "X_test = test.drop(columns = ['Churn', 'CustomerID'])\n",
    "y_test = test['Churn']\n",
    "\n",
    "# X = pd.concat([X_train, X_test], axis=0)\n",
    "# y = pd.concat([y_train, y_test], axis=0)"
   ]
  },
  {
   "cell_type": "code",
   "execution_count": 108,
   "metadata": {},
   "outputs": [],
   "source": [
    "XGBoost_model = XGBClassifier(n_estimators=1000, max_depth=8, learning_rate=1e-3, random_state=123, eval_metric='error')\n",
    "LightGBM_model = LGBMClassifier(n_estimators=1000, max_depth=8, num_leaves=2^8, learning_rate=10e-3, random_state=123, verbose=-1)\n",
    "CatBoost_model = CatBoostClassifier(n_estimators=1000, max_depth=8, learning_rate=1e-3, random_state=123, verbose=0)\n",
    "LogisticRegression_model = LogisticRegression(random_state=123, max_iter=1000)"
   ]
  },
  {
   "cell_type": "markdown",
   "metadata": {},
   "source": [
    "### Cross Validation\n",
    "\n",
    "I will use stratified cross-validation to ensure that each fold maintains the same proportion of churn and non-churn instances as the entire dataset."
   ]
  },
  {
   "cell_type": "code",
   "execution_count": 120,
   "metadata": {},
   "outputs": [
    {
     "name": "stdout",
     "output_type": "stream",
     "text": [
      "------------ Fold: 1 ------------\n",
      "Precision: 1.000\n",
      "Recall: 0.946\n",
      "Accuracy: 0.969\n",
      "F1 Score: 0.972\n",
      "Precision-recall AUC: 0.988\n",
      "ROC AUC: 0.973\n",
      "------------ Fold: 2 ------------\n",
      "Precision: 1.000\n",
      "Recall: 0.944\n",
      "Accuracy: 0.968\n",
      "F1 Score: 0.971\n",
      "Precision-recall AUC: 0.988\n",
      "ROC AUC: 0.972\n",
      "------------ Fold: 3 ------------\n",
      "Precision: 1.000\n",
      "Recall: 0.894\n",
      "Accuracy: 0.940\n",
      "F1 Score: 0.944\n",
      "Precision-recall AUC: 0.977\n",
      "ROC AUC: 0.971\n",
      "------------ Fold: 4 ------------\n",
      "Precision: 1.000\n",
      "Recall: 0.897\n",
      "Accuracy: 0.941\n",
      "F1 Score: 0.946\n",
      "Precision-recall AUC: 0.978\n",
      "ROC AUC: 0.972\n",
      "------------ Fold: 5 ------------\n",
      "Precision: 1.000\n",
      "Recall: 0.944\n",
      "Accuracy: 0.969\n",
      "F1 Score: 0.971\n",
      "Precision-recall AUC: 0.988\n",
      "ROC AUC: 0.972\n"
     ]
    }
   ],
   "source": [
    "k = 5\n",
    "threshold = 0.5\n",
    "folds = StratifiedKFold(n_splits=k, shuffle=True, random_state=123)\n",
    "\n",
    "precision_list = []\n",
    "recall_list = []\n",
    "accuracy_list = []\n",
    "f1_score_list = []\n",
    "precision_recall_auc_list = []\n",
    "roc_auc_list = []\n",
    "\n",
    "# The 'split' method will be applied to the 'folds' object, and for each fold,\n",
    "# it will return the indices of the training instances and the test instances for that fold\n",
    "for k, (train_index, val_index) in enumerate(folds.split(X_train, y_train)):\n",
    "    print(f\"------------ Fold: {k + 1} ------------\")\n",
    "\n",
    "    # training and validation sets for this fold\n",
    "    X_train_fold = X_train.iloc[train_index]\n",
    "    y_train_fold = y_train.iloc[train_index]\n",
    "    X_test_fold = X_train.iloc[val_index]\n",
    "    y_test_fold = y_train.iloc[val_index]\n",
    "\n",
    "    encoder = CatBoostEncoder()\n",
    "\n",
    "    cat_imputer = SimpleImputer(strategy='most_frequent')\n",
    "    num_imputer = SimpleImputer(strategy='median')\n",
    "\n",
    "    cat_pipeline = Pipeline([('encoder', encoder), ('imputer', cat_imputer)])\n",
    "    num_pipeline = Pipeline([('imputer', num_imputer)])\n",
    "\n",
    "    cat_columns = X_train_fold.select_dtypes(include = ['object']).columns\n",
    "    num_columns = X_train_fold.select_dtypes(exclude = ['object']).columns\n",
    "\n",
    "    X_train_fold[cat_columns] = cat_pipeline.fit_transform(X_train_fold[cat_columns], y_train_fold)\n",
    "    X_train_fold[num_columns] = num_pipeline.fit_transform(X_train_fold[num_columns])\n",
    "\n",
    "    X_test_fold[cat_columns] = cat_pipeline.transform(X_test_fold[cat_columns])\n",
    "    X_test_fold[num_columns] = num_pipeline.transform(X_test_fold[num_columns])\n",
    "\n",
    "    XGBoost_model.fit(X_train_fold, y_train_fold)\n",
    "\n",
    "    y_pred_proba = XGBoost_model.predict_proba(X_test_fold)[:,1]\n",
    "\n",
    "    y_pred = np.where(y_pred_proba > threshold, 1, 0)\n",
    "\n",
    "    precision, recall, thresholds = precision_recall_curve(y_test_fold, y_pred)\n",
    "\n",
    "    precision_recall_auc = auc(recall, precision)\n",
    "    roc_auc = roc_auc_score(y_test_fold, y_pred_proba)\n",
    "    accuracy_scores = accuracy_score(y_test_fold, y_pred)\n",
    "    precision_scores = precision_score(y_test_fold, y_pred)\n",
    "    recall_scores = recall_score(y_test_fold, y_pred)\n",
    "    f1scores = f1_score(y_test_fold, y_pred)\n",
    "\n",
    "    precision_list.append(precision_scores)\n",
    "    recall_list.append(recall_scores)\n",
    "    accuracy_list.append(accuracy_scores)\n",
    "    f1_score_list.append(f1scores)\n",
    "    precision_recall_auc_list.append(precision_recall_auc)\n",
    "    roc_auc_list.append(roc_auc)\n",
    "\n",
    "    print(f\"Precision: {precision_scores:.3f}\")\n",
    "    print(f\"Recall: {recall_scores:.3f}\")\n",
    "    print(f\"Accuracy: {accuracy_scores:.3f}\")\n",
    "    print(f\"F1 Score: {f1scores:.3f}\")\n",
    "    print(f\"Precision-recall AUC: {precision_recall_auc:.3f}\")\n",
    "    print(f\"ROC AUC: {roc_auc:.3f}\")\n",
    "\n",
    "\n",
    "    \n"
   ]
  }
 ],
 "metadata": {
  "kernelspec": {
   "display_name": "base",
   "language": "python",
   "name": "python3"
  },
  "language_info": {
   "codemirror_mode": {
    "name": "ipython",
    "version": 3
   },
   "file_extension": ".py",
   "mimetype": "text/x-python",
   "name": "python",
   "nbconvert_exporter": "python",
   "pygments_lexer": "ipython3",
   "version": "3.12.6"
  }
 },
 "nbformat": 4,
 "nbformat_minor": 2
}
